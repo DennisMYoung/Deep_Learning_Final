{
  "nbformat": 4,
  "nbformat_minor": 0,
  "metadata": {
    "colab": {
      "provenance": [],
      "machine_shape": "hm",
      "gpuType": "T4",
      "authorship_tag": "ABX9TyOsKDiUwjFFDVGuukmW04ZV",
      "include_colab_link": true
    },
    "kernelspec": {
      "name": "python3",
      "display_name": "Python 3"
    },
    "language_info": {
      "name": "python"
    },
    "accelerator": "GPU"
  },
  "cells": [
    {
      "cell_type": "markdown",
      "metadata": {
        "id": "view-in-github",
        "colab_type": "text"
      },
      "source": [
        "<a href=\"https://colab.research.google.com/github/DennisMYoung/Deep_Learning_Final/blob/main/DL_Final_Project_MSDS.ipynb\" target=\"_parent\"><img src=\"https://colab.research.google.com/assets/colab-badge.svg\" alt=\"Open In Colab\"/></a>"
      ]
    },
    {
      "cell_type": "markdown",
      "source": [
        "#Objective\n",
        "\n",
        " The open-access archive, **arXiv**, uses category taxinomy to categorize the various articles in the archive.\n",
        "\n",
        " Ealier today, I asked ChatGPT how these categories are assigned.  In short, these categories are assigned by the auther from a pre-defined list.  Then, volunteer moderators review the submission and confirm than the categories are appropriate.\n",
        "\n",
        " The goal of this project is to train a deep-learning model to categorize the articles.  Such a model could potentially reduce the workload of both the author and the moderator.\n"
      ],
      "metadata": {
        "id": "XUDWQgEqUO05"
      }
    },
    {
      "cell_type": "markdown",
      "source": [
        "##ktrain\n",
        "\n",
        "The python library 'ktrain' will be used in this project.  Ktrain is a low-code Python library that makes it very easy to train machine learning models.  \n",
        "\n",
        "Examples, tutorials, documentation can be found at the GitHub repository below.\n",
        "\n",
        "https://github.com/amaiya/ktrain"
      ],
      "metadata": {
        "id": "RT2FuukOCtBk"
      }
    },
    {
      "cell_type": "code",
      "source": [
        "import os\n",
        "os.environ['TF_USE_LEGACY_KERAS'] = 'True'\n",
        "try:\n",
        "  import ktrain\n",
        "except:\n",
        "  !pip install ktrain\n",
        "  os.kill(os.getpid(), 9)\n",
        "import ktrain\n",
        "import pandas as pd\n",
        "import numpy as np\n",
        "import seaborn as sns\n",
        "import matplotlib.pyplot as plt"
      ],
      "metadata": {
        "id": "T6Y-D4w_4DGz"
      },
      "execution_count": null,
      "outputs": []
    },
    {
      "cell_type": "code",
      "source": [
        "from sklearn.metrics import confusion_matrix, ConfusionMatrixDisplay\n",
        "from sklearn.metrics import classification_report\n",
        "from sklearn.metrics import accuracy_score, confusion_matrix, roc_auc_score, roc_curve"
      ],
      "metadata": {
        "id": "txTyUEO-WPyq"
      },
      "execution_count": null,
      "outputs": []
    },
    {
      "cell_type": "code",
      "source": [
        "from ktrain import text # Import the text module from ktrain"
      ],
      "metadata": {
        "id": "wnwqTqvvbFSF"
      },
      "execution_count": null,
      "outputs": []
    },
    {
      "cell_type": "code",
      "source": [
        "from google.colab import drive\n",
        "drive.mount('/content/drive')"
      ],
      "metadata": {
        "colab": {
          "base_uri": "https://localhost:8080/"
        },
        "id": "lGWmcakkp1S1",
        "outputId": "df594bcb-7a46-4357-f444-89ad3ddce12d"
      },
      "execution_count": null,
      "outputs": [
        {
          "output_type": "stream",
          "name": "stdout",
          "text": [
            "Drive already mounted at /content/drive; to attempt to forcibly remount, call drive.mount(\"/content/drive\", force_remount=True).\n"
          ]
        }
      ]
    },
    {
      "cell_type": "markdown",
      "source": [
        "#Dataset\n",
        "\n",
        "The dataset that will be used for this project is a curated dataset available on the Kaggle platform: https://www.kaggle.com/datasets/sumitm004/arxiv-scientific-research-papers-dataset.  This dataset has ~136K records and includes items such as the article title, category, summary of the article, and authors.\n",
        "\n",
        "There is a large dataset that is also available through Kaggle that contains meta-data on over 1.7M articles: https://www.kaggle.com/datasets/Cornell-University/arxiv\n",
        "\n",
        "\n",
        "For our puposes, the curated dataset will suffice.  However, depending on the performance of the model, I may explore the larger dataset in the future.\n",
        "\n",
        "\n",
        "\n"
      ],
      "metadata": {
        "id": "o-2TUcqEZBLP"
      }
    },
    {
      "cell_type": "code",
      "source": [
        " arXiv_df = pd.read_csv(\"/content/drive/MyDrive/Deep_Learning_Final_Project/arXiv_scientific dataset.csv\")"
      ],
      "metadata": {
        "id": "IVFlm_JaqQfo"
      },
      "execution_count": null,
      "outputs": []
    },
    {
      "cell_type": "markdown",
      "source": [
        "The datset contains information on over 100K articles in the archive."
      ],
      "metadata": {
        "id": "Orwsn-WKxACN"
      }
    },
    {
      "cell_type": "code",
      "source": [
        "arXiv_df.info()"
      ],
      "metadata": {
        "colab": {
          "base_uri": "https://localhost:8080/"
        },
        "id": "k36HRenrq994",
        "outputId": "4f28a85a-501d-49e3-ce7a-1da8531d5f49"
      },
      "execution_count": null,
      "outputs": [
        {
          "output_type": "stream",
          "name": "stdout",
          "text": [
            "<class 'pandas.core.frame.DataFrame'>\n",
            "RangeIndex: 136238 entries, 0 to 136237\n",
            "Data columns (total 10 columns):\n",
            " #   Column              Non-Null Count   Dtype \n",
            "---  ------              --------------   ----- \n",
            " 0   id                  136238 non-null  object\n",
            " 1   title               136238 non-null  object\n",
            " 2   category            136238 non-null  object\n",
            " 3   category_code       136238 non-null  object\n",
            " 4   published_date      136238 non-null  object\n",
            " 5   updated_date        136238 non-null  object\n",
            " 6   authors             136238 non-null  object\n",
            " 7   first_author        136238 non-null  object\n",
            " 8   summary             136238 non-null  object\n",
            " 9   summary_word_count  136238 non-null  int64 \n",
            "dtypes: int64(1), object(9)\n",
            "memory usage: 10.4+ MB\n"
          ]
        }
      ]
    },
    {
      "cell_type": "markdown",
      "source": [
        "##EDA"
      ],
      "metadata": {
        "id": "dASjS2YazJvJ"
      }
    },
    {
      "cell_type": "markdown",
      "source": [
        "Looking unique values for 'catgory' and 'category_code', it looks like there is a 'category' that corresponds two 'category_code' values."
      ],
      "metadata": {
        "id": "cSB3j-9IxILS"
      }
    },
    {
      "cell_type": "code",
      "source": [
        "category_counts = arXiv_df['category'].value_counts()\n",
        "category_counts.info()"
      ],
      "metadata": {
        "colab": {
          "base_uri": "https://localhost:8080/"
        },
        "id": "o7RAWn26rGMc",
        "outputId": "b3a653bb-e21e-4107-f51c-de5754bd6e14"
      },
      "execution_count": null,
      "outputs": [
        {
          "output_type": "stream",
          "name": "stdout",
          "text": [
            "<class 'pandas.core.series.Series'>\n",
            "Index: 138 entries, Machine Learning to History and Philosophy of Physics\n",
            "Series name: count\n",
            "Non-Null Count  Dtype\n",
            "--------------  -----\n",
            "138 non-null    int64\n",
            "dtypes: int64(1)\n",
            "memory usage: 2.2+ KB\n"
          ]
        }
      ]
    },
    {
      "cell_type": "code",
      "source": [
        "category_cd_counts = arXiv_df['category_code'].value_counts()\n",
        "category_cd_counts.info()"
      ],
      "metadata": {
        "colab": {
          "base_uri": "https://localhost:8080/"
        },
        "id": "wpZwwErjr4LZ",
        "outputId": "bca55e6f-6ed1-41c8-e1f7-5f7aba04b514"
      },
      "execution_count": null,
      "outputs": [
        {
          "output_type": "stream",
          "name": "stdout",
          "text": [
            "<class 'pandas.core.series.Series'>\n",
            "Index: 139 entries, cs.LG to physics.hist-ph\n",
            "Series name: count\n",
            "Non-Null Count  Dtype\n",
            "--------------  -----\n",
            "139 non-null    int64\n",
            "dtypes: int64(1)\n",
            "memory usage: 2.2+ KB\n"
          ]
        }
      ]
    },
    {
      "cell_type": "markdown",
      "source": [
        "The category 'Numerical Analysis' corresponds to two codes, 'cs.NA' and 'math.NA'.  That is potentially something to be aware of."
      ],
      "metadata": {
        "id": "temXG4qKG2BH"
      }
    },
    {
      "cell_type": "code",
      "source": [
        "cat_test = arXiv_df[['category','category_code']].drop_duplicates()\n",
        "cat_grp = cat_test.groupby('category',as_index = False)['category_code'].count()\n",
        "cat_grp = cat_grp[cat_grp['category_code'] > 1]\n",
        "cat_grp"
      ],
      "metadata": {
        "id": "CXNVRp81FQ_u",
        "outputId": "5f38a8f5-74bd-4a8f-8b42-d0d24058853b",
        "colab": {
          "base_uri": "https://localhost:8080/",
          "height": 89
        }
      },
      "execution_count": null,
      "outputs": [
        {
          "output_type": "execute_result",
          "data": {
            "text/plain": [
              "              category  category_code\n",
              "98  Numerical Analysis              2"
            ],
            "text/html": [
              "\n",
              "  <div id=\"df-96f9dd4e-10b9-44d2-9da6-d5ed23d6628b\" class=\"colab-df-container\">\n",
              "    <div>\n",
              "<style scoped>\n",
              "    .dataframe tbody tr th:only-of-type {\n",
              "        vertical-align: middle;\n",
              "    }\n",
              "\n",
              "    .dataframe tbody tr th {\n",
              "        vertical-align: top;\n",
              "    }\n",
              "\n",
              "    .dataframe thead th {\n",
              "        text-align: right;\n",
              "    }\n",
              "</style>\n",
              "<table border=\"1\" class=\"dataframe\">\n",
              "  <thead>\n",
              "    <tr style=\"text-align: right;\">\n",
              "      <th></th>\n",
              "      <th>category</th>\n",
              "      <th>category_code</th>\n",
              "    </tr>\n",
              "  </thead>\n",
              "  <tbody>\n",
              "    <tr>\n",
              "      <th>98</th>\n",
              "      <td>Numerical Analysis</td>\n",
              "      <td>2</td>\n",
              "    </tr>\n",
              "  </tbody>\n",
              "</table>\n",
              "</div>\n",
              "    <div class=\"colab-df-buttons\">\n",
              "\n",
              "  <div class=\"colab-df-container\">\n",
              "    <button class=\"colab-df-convert\" onclick=\"convertToInteractive('df-96f9dd4e-10b9-44d2-9da6-d5ed23d6628b')\"\n",
              "            title=\"Convert this dataframe to an interactive table.\"\n",
              "            style=\"display:none;\">\n",
              "\n",
              "  <svg xmlns=\"http://www.w3.org/2000/svg\" height=\"24px\" viewBox=\"0 -960 960 960\">\n",
              "    <path d=\"M120-120v-720h720v720H120Zm60-500h600v-160H180v160Zm220 220h160v-160H400v160Zm0 220h160v-160H400v160ZM180-400h160v-160H180v160Zm440 0h160v-160H620v160ZM180-180h160v-160H180v160Zm440 0h160v-160H620v160Z\"/>\n",
              "  </svg>\n",
              "    </button>\n",
              "\n",
              "  <style>\n",
              "    .colab-df-container {\n",
              "      display:flex;\n",
              "      gap: 12px;\n",
              "    }\n",
              "\n",
              "    .colab-df-convert {\n",
              "      background-color: #E8F0FE;\n",
              "      border: none;\n",
              "      border-radius: 50%;\n",
              "      cursor: pointer;\n",
              "      display: none;\n",
              "      fill: #1967D2;\n",
              "      height: 32px;\n",
              "      padding: 0 0 0 0;\n",
              "      width: 32px;\n",
              "    }\n",
              "\n",
              "    .colab-df-convert:hover {\n",
              "      background-color: #E2EBFA;\n",
              "      box-shadow: 0px 1px 2px rgba(60, 64, 67, 0.3), 0px 1px 3px 1px rgba(60, 64, 67, 0.15);\n",
              "      fill: #174EA6;\n",
              "    }\n",
              "\n",
              "    .colab-df-buttons div {\n",
              "      margin-bottom: 4px;\n",
              "    }\n",
              "\n",
              "    [theme=dark] .colab-df-convert {\n",
              "      background-color: #3B4455;\n",
              "      fill: #D2E3FC;\n",
              "    }\n",
              "\n",
              "    [theme=dark] .colab-df-convert:hover {\n",
              "      background-color: #434B5C;\n",
              "      box-shadow: 0px 1px 3px 1px rgba(0, 0, 0, 0.15);\n",
              "      filter: drop-shadow(0px 1px 2px rgba(0, 0, 0, 0.3));\n",
              "      fill: #FFFFFF;\n",
              "    }\n",
              "  </style>\n",
              "\n",
              "    <script>\n",
              "      const buttonEl =\n",
              "        document.querySelector('#df-96f9dd4e-10b9-44d2-9da6-d5ed23d6628b button.colab-df-convert');\n",
              "      buttonEl.style.display =\n",
              "        google.colab.kernel.accessAllowed ? 'block' : 'none';\n",
              "\n",
              "      async function convertToInteractive(key) {\n",
              "        const element = document.querySelector('#df-96f9dd4e-10b9-44d2-9da6-d5ed23d6628b');\n",
              "        const dataTable =\n",
              "          await google.colab.kernel.invokeFunction('convertToInteractive',\n",
              "                                                    [key], {});\n",
              "        if (!dataTable) return;\n",
              "\n",
              "        const docLinkHtml = 'Like what you see? Visit the ' +\n",
              "          '<a target=\"_blank\" href=https://colab.research.google.com/notebooks/data_table.ipynb>data table notebook</a>'\n",
              "          + ' to learn more about interactive tables.';\n",
              "        element.innerHTML = '';\n",
              "        dataTable['output_type'] = 'display_data';\n",
              "        await google.colab.output.renderOutput(dataTable, element);\n",
              "        const docLink = document.createElement('div');\n",
              "        docLink.innerHTML = docLinkHtml;\n",
              "        element.appendChild(docLink);\n",
              "      }\n",
              "    </script>\n",
              "  </div>\n",
              "\n",
              "\n",
              "  <div id=\"id_4f76486e-27dc-404e-806c-3e485e57576e\">\n",
              "    <style>\n",
              "      .colab-df-generate {\n",
              "        background-color: #E8F0FE;\n",
              "        border: none;\n",
              "        border-radius: 50%;\n",
              "        cursor: pointer;\n",
              "        display: none;\n",
              "        fill: #1967D2;\n",
              "        height: 32px;\n",
              "        padding: 0 0 0 0;\n",
              "        width: 32px;\n",
              "      }\n",
              "\n",
              "      .colab-df-generate:hover {\n",
              "        background-color: #E2EBFA;\n",
              "        box-shadow: 0px 1px 2px rgba(60, 64, 67, 0.3), 0px 1px 3px 1px rgba(60, 64, 67, 0.15);\n",
              "        fill: #174EA6;\n",
              "      }\n",
              "\n",
              "      [theme=dark] .colab-df-generate {\n",
              "        background-color: #3B4455;\n",
              "        fill: #D2E3FC;\n",
              "      }\n",
              "\n",
              "      [theme=dark] .colab-df-generate:hover {\n",
              "        background-color: #434B5C;\n",
              "        box-shadow: 0px 1px 3px 1px rgba(0, 0, 0, 0.15);\n",
              "        filter: drop-shadow(0px 1px 2px rgba(0, 0, 0, 0.3));\n",
              "        fill: #FFFFFF;\n",
              "      }\n",
              "    </style>\n",
              "    <button class=\"colab-df-generate\" onclick=\"generateWithVariable('cat_grp')\"\n",
              "            title=\"Generate code using this dataframe.\"\n",
              "            style=\"display:none;\">\n",
              "\n",
              "  <svg xmlns=\"http://www.w3.org/2000/svg\" height=\"24px\"viewBox=\"0 0 24 24\"\n",
              "       width=\"24px\">\n",
              "    <path d=\"M7,19H8.4L18.45,9,17,7.55,7,17.6ZM5,21V16.75L18.45,3.32a2,2,0,0,1,2.83,0l1.4,1.43a1.91,1.91,0,0,1,.58,1.4,1.91,1.91,0,0,1-.58,1.4L9.25,21ZM18.45,9,17,7.55Zm-12,3A5.31,5.31,0,0,0,4.9,8.1,5.31,5.31,0,0,0,1,6.5,5.31,5.31,0,0,0,4.9,4.9,5.31,5.31,0,0,0,6.5,1,5.31,5.31,0,0,0,8.1,4.9,5.31,5.31,0,0,0,12,6.5,5.46,5.46,0,0,0,6.5,12Z\"/>\n",
              "  </svg>\n",
              "    </button>\n",
              "    <script>\n",
              "      (() => {\n",
              "      const buttonEl =\n",
              "        document.querySelector('#id_4f76486e-27dc-404e-806c-3e485e57576e button.colab-df-generate');\n",
              "      buttonEl.style.display =\n",
              "        google.colab.kernel.accessAllowed ? 'block' : 'none';\n",
              "\n",
              "      buttonEl.onclick = () => {\n",
              "        google.colab.notebook.generateWithVariable('cat_grp');\n",
              "      }\n",
              "      })();\n",
              "    </script>\n",
              "  </div>\n",
              "\n",
              "    </div>\n",
              "  </div>\n"
            ],
            "application/vnd.google.colaboratory.intrinsic+json": {
              "type": "dataframe",
              "variable_name": "cat_grp",
              "summary": "{\n  \"name\": \"cat_grp\",\n  \"rows\": 1,\n  \"fields\": [\n    {\n      \"column\": \"category\",\n      \"properties\": {\n        \"dtype\": \"string\",\n        \"num_unique_values\": 1,\n        \"samples\": [\n          \"Numerical Analysis\"\n        ],\n        \"semantic_type\": \"\",\n        \"description\": \"\"\n      }\n    },\n    {\n      \"column\": \"category_code\",\n      \"properties\": {\n        \"dtype\": \"number\",\n        \"std\": null,\n        \"min\": 2,\n        \"max\": 2,\n        \"num_unique_values\": 1,\n        \"samples\": [\n          2\n        ],\n        \"semantic_type\": \"\",\n        \"description\": \"\"\n      }\n    }\n  ]\n}"
            }
          },
          "metadata": {},
          "execution_count": 8
        }
      ]
    },
    {
      "cell_type": "code",
      "source": [
        "cat_test[cat_test['category'] == 'Numerical Analysis']"
      ],
      "metadata": {
        "id": "wANXCCKsIOve",
        "outputId": "5e98cb4f-ad58-44cb-d346-5dca81235873",
        "colab": {
          "base_uri": "https://localhost:8080/",
          "height": 112
        }
      },
      "execution_count": null,
      "outputs": [
        {
          "output_type": "execute_result",
          "data": {
            "text/plain": [
              "                 category category_code\n",
              "39965  Numerical Analysis         cs.NA\n",
              "40889  Numerical Analysis       math.NA"
            ],
            "text/html": [
              "\n",
              "  <div id=\"df-a23446e6-48c3-4b0f-a9ec-a46a2f003b79\" class=\"colab-df-container\">\n",
              "    <div>\n",
              "<style scoped>\n",
              "    .dataframe tbody tr th:only-of-type {\n",
              "        vertical-align: middle;\n",
              "    }\n",
              "\n",
              "    .dataframe tbody tr th {\n",
              "        vertical-align: top;\n",
              "    }\n",
              "\n",
              "    .dataframe thead th {\n",
              "        text-align: right;\n",
              "    }\n",
              "</style>\n",
              "<table border=\"1\" class=\"dataframe\">\n",
              "  <thead>\n",
              "    <tr style=\"text-align: right;\">\n",
              "      <th></th>\n",
              "      <th>category</th>\n",
              "      <th>category_code</th>\n",
              "    </tr>\n",
              "  </thead>\n",
              "  <tbody>\n",
              "    <tr>\n",
              "      <th>39965</th>\n",
              "      <td>Numerical Analysis</td>\n",
              "      <td>cs.NA</td>\n",
              "    </tr>\n",
              "    <tr>\n",
              "      <th>40889</th>\n",
              "      <td>Numerical Analysis</td>\n",
              "      <td>math.NA</td>\n",
              "    </tr>\n",
              "  </tbody>\n",
              "</table>\n",
              "</div>\n",
              "    <div class=\"colab-df-buttons\">\n",
              "\n",
              "  <div class=\"colab-df-container\">\n",
              "    <button class=\"colab-df-convert\" onclick=\"convertToInteractive('df-a23446e6-48c3-4b0f-a9ec-a46a2f003b79')\"\n",
              "            title=\"Convert this dataframe to an interactive table.\"\n",
              "            style=\"display:none;\">\n",
              "\n",
              "  <svg xmlns=\"http://www.w3.org/2000/svg\" height=\"24px\" viewBox=\"0 -960 960 960\">\n",
              "    <path d=\"M120-120v-720h720v720H120Zm60-500h600v-160H180v160Zm220 220h160v-160H400v160Zm0 220h160v-160H400v160ZM180-400h160v-160H180v160Zm440 0h160v-160H620v160ZM180-180h160v-160H180v160Zm440 0h160v-160H620v160Z\"/>\n",
              "  </svg>\n",
              "    </button>\n",
              "\n",
              "  <style>\n",
              "    .colab-df-container {\n",
              "      display:flex;\n",
              "      gap: 12px;\n",
              "    }\n",
              "\n",
              "    .colab-df-convert {\n",
              "      background-color: #E8F0FE;\n",
              "      border: none;\n",
              "      border-radius: 50%;\n",
              "      cursor: pointer;\n",
              "      display: none;\n",
              "      fill: #1967D2;\n",
              "      height: 32px;\n",
              "      padding: 0 0 0 0;\n",
              "      width: 32px;\n",
              "    }\n",
              "\n",
              "    .colab-df-convert:hover {\n",
              "      background-color: #E2EBFA;\n",
              "      box-shadow: 0px 1px 2px rgba(60, 64, 67, 0.3), 0px 1px 3px 1px rgba(60, 64, 67, 0.15);\n",
              "      fill: #174EA6;\n",
              "    }\n",
              "\n",
              "    .colab-df-buttons div {\n",
              "      margin-bottom: 4px;\n",
              "    }\n",
              "\n",
              "    [theme=dark] .colab-df-convert {\n",
              "      background-color: #3B4455;\n",
              "      fill: #D2E3FC;\n",
              "    }\n",
              "\n",
              "    [theme=dark] .colab-df-convert:hover {\n",
              "      background-color: #434B5C;\n",
              "      box-shadow: 0px 1px 3px 1px rgba(0, 0, 0, 0.15);\n",
              "      filter: drop-shadow(0px 1px 2px rgba(0, 0, 0, 0.3));\n",
              "      fill: #FFFFFF;\n",
              "    }\n",
              "  </style>\n",
              "\n",
              "    <script>\n",
              "      const buttonEl =\n",
              "        document.querySelector('#df-a23446e6-48c3-4b0f-a9ec-a46a2f003b79 button.colab-df-convert');\n",
              "      buttonEl.style.display =\n",
              "        google.colab.kernel.accessAllowed ? 'block' : 'none';\n",
              "\n",
              "      async function convertToInteractive(key) {\n",
              "        const element = document.querySelector('#df-a23446e6-48c3-4b0f-a9ec-a46a2f003b79');\n",
              "        const dataTable =\n",
              "          await google.colab.kernel.invokeFunction('convertToInteractive',\n",
              "                                                    [key], {});\n",
              "        if (!dataTable) return;\n",
              "\n",
              "        const docLinkHtml = 'Like what you see? Visit the ' +\n",
              "          '<a target=\"_blank\" href=https://colab.research.google.com/notebooks/data_table.ipynb>data table notebook</a>'\n",
              "          + ' to learn more about interactive tables.';\n",
              "        element.innerHTML = '';\n",
              "        dataTable['output_type'] = 'display_data';\n",
              "        await google.colab.output.renderOutput(dataTable, element);\n",
              "        const docLink = document.createElement('div');\n",
              "        docLink.innerHTML = docLinkHtml;\n",
              "        element.appendChild(docLink);\n",
              "      }\n",
              "    </script>\n",
              "  </div>\n",
              "\n",
              "\n",
              "<div id=\"df-b09bd5d3-8944-4f87-9452-d96dfef2c43e\">\n",
              "  <button class=\"colab-df-quickchart\" onclick=\"quickchart('df-b09bd5d3-8944-4f87-9452-d96dfef2c43e')\"\n",
              "            title=\"Suggest charts\"\n",
              "            style=\"display:none;\">\n",
              "\n",
              "<svg xmlns=\"http://www.w3.org/2000/svg\" height=\"24px\"viewBox=\"0 0 24 24\"\n",
              "     width=\"24px\">\n",
              "    <g>\n",
              "        <path d=\"M19 3H5c-1.1 0-2 .9-2 2v14c0 1.1.9 2 2 2h14c1.1 0 2-.9 2-2V5c0-1.1-.9-2-2-2zM9 17H7v-7h2v7zm4 0h-2V7h2v10zm4 0h-2v-4h2v4z\"/>\n",
              "    </g>\n",
              "</svg>\n",
              "  </button>\n",
              "\n",
              "<style>\n",
              "  .colab-df-quickchart {\n",
              "      --bg-color: #E8F0FE;\n",
              "      --fill-color: #1967D2;\n",
              "      --hover-bg-color: #E2EBFA;\n",
              "      --hover-fill-color: #174EA6;\n",
              "      --disabled-fill-color: #AAA;\n",
              "      --disabled-bg-color: #DDD;\n",
              "  }\n",
              "\n",
              "  [theme=dark] .colab-df-quickchart {\n",
              "      --bg-color: #3B4455;\n",
              "      --fill-color: #D2E3FC;\n",
              "      --hover-bg-color: #434B5C;\n",
              "      --hover-fill-color: #FFFFFF;\n",
              "      --disabled-bg-color: #3B4455;\n",
              "      --disabled-fill-color: #666;\n",
              "  }\n",
              "\n",
              "  .colab-df-quickchart {\n",
              "    background-color: var(--bg-color);\n",
              "    border: none;\n",
              "    border-radius: 50%;\n",
              "    cursor: pointer;\n",
              "    display: none;\n",
              "    fill: var(--fill-color);\n",
              "    height: 32px;\n",
              "    padding: 0;\n",
              "    width: 32px;\n",
              "  }\n",
              "\n",
              "  .colab-df-quickchart:hover {\n",
              "    background-color: var(--hover-bg-color);\n",
              "    box-shadow: 0 1px 2px rgba(60, 64, 67, 0.3), 0 1px 3px 1px rgba(60, 64, 67, 0.15);\n",
              "    fill: var(--button-hover-fill-color);\n",
              "  }\n",
              "\n",
              "  .colab-df-quickchart-complete:disabled,\n",
              "  .colab-df-quickchart-complete:disabled:hover {\n",
              "    background-color: var(--disabled-bg-color);\n",
              "    fill: var(--disabled-fill-color);\n",
              "    box-shadow: none;\n",
              "  }\n",
              "\n",
              "  .colab-df-spinner {\n",
              "    border: 2px solid var(--fill-color);\n",
              "    border-color: transparent;\n",
              "    border-bottom-color: var(--fill-color);\n",
              "    animation:\n",
              "      spin 1s steps(1) infinite;\n",
              "  }\n",
              "\n",
              "  @keyframes spin {\n",
              "    0% {\n",
              "      border-color: transparent;\n",
              "      border-bottom-color: var(--fill-color);\n",
              "      border-left-color: var(--fill-color);\n",
              "    }\n",
              "    20% {\n",
              "      border-color: transparent;\n",
              "      border-left-color: var(--fill-color);\n",
              "      border-top-color: var(--fill-color);\n",
              "    }\n",
              "    30% {\n",
              "      border-color: transparent;\n",
              "      border-left-color: var(--fill-color);\n",
              "      border-top-color: var(--fill-color);\n",
              "      border-right-color: var(--fill-color);\n",
              "    }\n",
              "    40% {\n",
              "      border-color: transparent;\n",
              "      border-right-color: var(--fill-color);\n",
              "      border-top-color: var(--fill-color);\n",
              "    }\n",
              "    60% {\n",
              "      border-color: transparent;\n",
              "      border-right-color: var(--fill-color);\n",
              "    }\n",
              "    80% {\n",
              "      border-color: transparent;\n",
              "      border-right-color: var(--fill-color);\n",
              "      border-bottom-color: var(--fill-color);\n",
              "    }\n",
              "    90% {\n",
              "      border-color: transparent;\n",
              "      border-bottom-color: var(--fill-color);\n",
              "    }\n",
              "  }\n",
              "</style>\n",
              "\n",
              "  <script>\n",
              "    async function quickchart(key) {\n",
              "      const quickchartButtonEl =\n",
              "        document.querySelector('#' + key + ' button');\n",
              "      quickchartButtonEl.disabled = true;  // To prevent multiple clicks.\n",
              "      quickchartButtonEl.classList.add('colab-df-spinner');\n",
              "      try {\n",
              "        const charts = await google.colab.kernel.invokeFunction(\n",
              "            'suggestCharts', [key], {});\n",
              "      } catch (error) {\n",
              "        console.error('Error during call to suggestCharts:', error);\n",
              "      }\n",
              "      quickchartButtonEl.classList.remove('colab-df-spinner');\n",
              "      quickchartButtonEl.classList.add('colab-df-quickchart-complete');\n",
              "    }\n",
              "    (() => {\n",
              "      let quickchartButtonEl =\n",
              "        document.querySelector('#df-b09bd5d3-8944-4f87-9452-d96dfef2c43e button');\n",
              "      quickchartButtonEl.style.display =\n",
              "        google.colab.kernel.accessAllowed ? 'block' : 'none';\n",
              "    })();\n",
              "  </script>\n",
              "</div>\n",
              "\n",
              "    </div>\n",
              "  </div>\n"
            ],
            "application/vnd.google.colaboratory.intrinsic+json": {
              "type": "dataframe",
              "summary": "{\n  \"name\": \"cat_test[cat_test['category'] == 'Numerical Analysis']\",\n  \"rows\": 2,\n  \"fields\": [\n    {\n      \"column\": \"category\",\n      \"properties\": {\n        \"dtype\": \"string\",\n        \"num_unique_values\": 1,\n        \"samples\": [\n          \"Numerical Analysis\"\n        ],\n        \"semantic_type\": \"\",\n        \"description\": \"\"\n      }\n    },\n    {\n      \"column\": \"category_code\",\n      \"properties\": {\n        \"dtype\": \"string\",\n        \"num_unique_values\": 2,\n        \"samples\": [\n          \"math.NA\"\n        ],\n        \"semantic_type\": \"\",\n        \"description\": \"\"\n      }\n    }\n  ]\n}"
            }
          },
          "metadata": {},
          "execution_count": 9
        }
      ]
    },
    {
      "cell_type": "markdown",
      "source": [
        "Looking at the article count by 'category_code' there is a major drop in article count after the top 6 categories."
      ],
      "metadata": {
        "id": "aCLj0swVxuem"
      }
    },
    {
      "cell_type": "code",
      "source": [
        "category_cd_counts.head(10)"
      ],
      "metadata": {
        "colab": {
          "base_uri": "https://localhost:8080/",
          "height": 429
        },
        "id": "YI4a3nr9vB-E",
        "outputId": "43b3543d-792f-4b17-80d7-084784854115"
      },
      "execution_count": null,
      "outputs": [
        {
          "output_type": "execute_result",
          "data": {
            "text/plain": [
              "category_code\n",
              "cs.LG      39986\n",
              "cs.CV      29057\n",
              "cs.CL      25202\n",
              "cs.AI      12969\n",
              "stat.ML    10447\n",
              "cs.NE       5509\n",
              "cs.RO        903\n",
              "cs.IR        901\n",
              "stat.ME      882\n",
              "cmp-lg       750\n",
              "Name: count, dtype: int64"
            ],
            "text/html": [
              "<div>\n",
              "<style scoped>\n",
              "    .dataframe tbody tr th:only-of-type {\n",
              "        vertical-align: middle;\n",
              "    }\n",
              "\n",
              "    .dataframe tbody tr th {\n",
              "        vertical-align: top;\n",
              "    }\n",
              "\n",
              "    .dataframe thead th {\n",
              "        text-align: right;\n",
              "    }\n",
              "</style>\n",
              "<table border=\"1\" class=\"dataframe\">\n",
              "  <thead>\n",
              "    <tr style=\"text-align: right;\">\n",
              "      <th></th>\n",
              "      <th>count</th>\n",
              "    </tr>\n",
              "    <tr>\n",
              "      <th>category_code</th>\n",
              "      <th></th>\n",
              "    </tr>\n",
              "  </thead>\n",
              "  <tbody>\n",
              "    <tr>\n",
              "      <th>cs.LG</th>\n",
              "      <td>39986</td>\n",
              "    </tr>\n",
              "    <tr>\n",
              "      <th>cs.CV</th>\n",
              "      <td>29057</td>\n",
              "    </tr>\n",
              "    <tr>\n",
              "      <th>cs.CL</th>\n",
              "      <td>25202</td>\n",
              "    </tr>\n",
              "    <tr>\n",
              "      <th>cs.AI</th>\n",
              "      <td>12969</td>\n",
              "    </tr>\n",
              "    <tr>\n",
              "      <th>stat.ML</th>\n",
              "      <td>10447</td>\n",
              "    </tr>\n",
              "    <tr>\n",
              "      <th>cs.NE</th>\n",
              "      <td>5509</td>\n",
              "    </tr>\n",
              "    <tr>\n",
              "      <th>cs.RO</th>\n",
              "      <td>903</td>\n",
              "    </tr>\n",
              "    <tr>\n",
              "      <th>cs.IR</th>\n",
              "      <td>901</td>\n",
              "    </tr>\n",
              "    <tr>\n",
              "      <th>stat.ME</th>\n",
              "      <td>882</td>\n",
              "    </tr>\n",
              "    <tr>\n",
              "      <th>cmp-lg</th>\n",
              "      <td>750</td>\n",
              "    </tr>\n",
              "  </tbody>\n",
              "</table>\n",
              "</div><br><label><b>dtype:</b> int64</label>"
            ]
          },
          "metadata": {},
          "execution_count": 10
        }
      ]
    },
    {
      "cell_type": "markdown",
      "source": [
        "After labelling every category outside of the top 6 catgories, in terms of record count, as \"Other\", the distibution can be seen below.  The data is unbalanced, but I don't want to balance it right now because there is a chance that too many records will be lost."
      ],
      "metadata": {
        "id": "Lf49SUZex8nJ"
      }
    },
    {
      "cell_type": "code",
      "source": [
        "top_6_categories = category_cd_counts.head(6)\n",
        "top_6_categories\n",
        "\n",
        "arXiv_df['label'] = np.where(arXiv_df['category_code'].isin(top_6_categories.index), arXiv_df['category_code'], 'Other')\n",
        "print(sns.histplot(arXiv_df['label']))"
      ],
      "metadata": {
        "id": "Rfy7AkDFJXJj",
        "outputId": "c4d3e44e-a61a-4ad5-86c2-6122a72277ee",
        "colab": {
          "base_uri": "https://localhost:8080/",
          "height": 467
        }
      },
      "execution_count": null,
      "outputs": [
        {
          "output_type": "stream",
          "name": "stdout",
          "text": [
            "Axes(0.125,0.11;0.775x0.77)\n"
          ]
        },
        {
          "output_type": "display_data",
          "data": {
            "text/plain": [
              "<Figure size 640x480 with 1 Axes>"
            ],
            "image/png": "[encoded data removed]"
          },
          "metadata": {}
        }
      ]
    },
    {
      "cell_type": "markdown",
      "source": [
        "Below is a lookup table to map the 'category_code' to the 'category'."
      ],
      "metadata": {
        "id": "m6cswYFHyszX"
      }
    },
    {
      "cell_type": "code",
      "source": [
        "lookup = arXiv_df[['label','category']][arXiv_df['label'] != 'Other'].drop_duplicates()\n",
        "lookup"
      ],
      "metadata": {
        "colab": {
          "base_uri": "https://localhost:8080/",
          "height": 238
        },
        "id": "ZojalzIuTi9f",
        "outputId": "b4e89a73-0d05-4eca-bbca-26641a08bf65"
      },
      "execution_count": null,
      "outputs": [
        {
          "output_type": "execute_result",
          "data": {
            "text/plain": [
              "         label                                           category\n",
              "0        cs.AI                            Artificial Intelligence\n",
              "9313     cs.LG                                   Machine Learning\n",
              "9318     cs.CL  Computation and Language (Natural Language Pro...\n",
              "9400     cs.NE                  Neural and Evolutionary Computing\n",
              "9449     cs.CV            Computer Vision and Pattern Recognition\n",
              "10070  stat.ML                      Machine Learning (Statistics)"
            ],
            "text/html": [
              "\n",
              "  <div id=\"df-eaad736e-05f0-497f-bbbb-8f965f8e432f\" class=\"colab-df-container\">\n",
              "    <div>\n",
              "<style scoped>\n",
              "    .dataframe tbody tr th:only-of-type {\n",
              "        vertical-align: middle;\n",
              "    }\n",
              "\n",
              "    .dataframe tbody tr th {\n",
              "        vertical-align: top;\n",
              "    }\n",
              "\n",
              "    .dataframe thead th {\n",
              "        text-align: right;\n",
              "    }\n",
              "</style>\n",
              "<table border=\"1\" class=\"dataframe\">\n",
              "  <thead>\n",
              "    <tr style=\"text-align: right;\">\n",
              "      <th></th>\n",
              "      <th>label</th>\n",
              "      <th>category</th>\n",
              "    </tr>\n",
              "  </thead>\n",
              "  <tbody>\n",
              "    <tr>\n",
              "      <th>0</th>\n",
              "      <td>cs.AI</td>\n",
              "      <td>Artificial Intelligence</td>\n",
              "    </tr>\n",
              "    <tr>\n",
              "      <th>9313</th>\n",
              "      <td>cs.LG</td>\n",
              "      <td>Machine Learning</td>\n",
              "    </tr>\n",
              "    <tr>\n",
              "      <th>9318</th>\n",
              "      <td>cs.CL</td>\n",
              "      <td>Computation and Language (Natural Language Pro...</td>\n",
              "    </tr>\n",
              "    <tr>\n",
              "      <th>9400</th>\n",
              "      <td>cs.NE</td>\n",
              "      <td>Neural and Evolutionary Computing</td>\n",
              "    </tr>\n",
              "    <tr>\n",
              "      <th>9449</th>\n",
              "      <td>cs.CV</td>\n",
              "      <td>Computer Vision and Pattern Recognition</td>\n",
              "    </tr>\n",
              "    <tr>\n",
              "      <th>10070</th>\n",
              "      <td>stat.ML</td>\n",
              "      <td>Machine Learning (Statistics)</td>\n",
              "    </tr>\n",
              "  </tbody>\n",
              "</table>\n",
              "</div>\n",
              "    <div class=\"colab-df-buttons\">\n",
              "\n",
              "  <div class=\"colab-df-container\">\n",
              "    <button class=\"colab-df-convert\" onclick=\"convertToInteractive('df-eaad736e-05f0-497f-bbbb-8f965f8e432f')\"\n",
              "            title=\"Convert this dataframe to an interactive table.\"\n",
              "            style=\"display:none;\">\n",
              "\n",
              "  <svg xmlns=\"http://www.w3.org/2000/svg\" height=\"24px\" viewBox=\"0 -960 960 960\">\n",
              "    <path d=\"M120-120v-720h720v720H120Zm60-500h600v-160H180v160Zm220 220h160v-160H400v160Zm0 220h160v-160H400v160ZM180-400h160v-160H180v160Zm440 0h160v-160H620v160ZM180-180h160v-160H180v160Zm440 0h160v-160H620v160Z\"/>\n",
              "  </svg>\n",
              "    </button>\n",
              "\n",
              "  <style>\n",
              "    .colab-df-container {\n",
              "      display:flex;\n",
              "      gap: 12px;\n",
              "    }\n",
              "\n",
              "    .colab-df-convert {\n",
              "      background-color: #E8F0FE;\n",
              "      border: none;\n",
              "      border-radius: 50%;\n",
              "      cursor: pointer;\n",
              "      display: none;\n",
              "      fill: #1967D2;\n",
              "      height: 32px;\n",
              "      padding: 0 0 0 0;\n",
              "      width: 32px;\n",
              "    }\n",
              "\n",
              "    .colab-df-convert:hover {\n",
              "      background-color: #E2EBFA;\n",
              "      box-shadow: 0px 1px 2px rgba(60, 64, 67, 0.3), 0px 1px 3px 1px rgba(60, 64, 67, 0.15);\n",
              "      fill: #174EA6;\n",
              "    }\n",
              "\n",
              "    .colab-df-buttons div {\n",
              "      margin-bottom: 4px;\n",
              "    }\n",
              "\n",
              "    [theme=dark] .colab-df-convert {\n",
              "      background-color: #3B4455;\n",
              "      fill: #D2E3FC;\n",
              "    }\n",
              "\n",
              "    [theme=dark] .colab-df-convert:hover {\n",
              "      background-color: #434B5C;\n",
              "      box-shadow: 0px 1px 3px 1px rgba(0, 0, 0, 0.15);\n",
              "      filter: drop-shadow(0px 1px 2px rgba(0, 0, 0, 0.3));\n",
              "      fill: #FFFFFF;\n",
              "    }\n",
              "  </style>\n",
              "\n",
              "    <script>\n",
              "      const buttonEl =\n",
              "        document.querySelector('#df-eaad736e-05f0-497f-bbbb-8f965f8e432f button.colab-df-convert');\n",
              "      buttonEl.style.display =\n",
              "        google.colab.kernel.accessAllowed ? 'block' : 'none';\n",
              "\n",
              "      async function convertToInteractive(key) {\n",
              "        const element = document.querySelector('#df-eaad736e-05f0-497f-bbbb-8f965f8e432f');\n",
              "        const dataTable =\n",
              "          await google.colab.kernel.invokeFunction('convertToInteractive',\n",
              "                                                    [key], {});\n",
              "        if (!dataTable) return;\n",
              "\n",
              "        const docLinkHtml = 'Like what you see? Visit the ' +\n",
              "          '<a target=\"_blank\" href=https://colab.research.google.com/notebooks/data_table.ipynb>data table notebook</a>'\n",
              "          + ' to learn more about interactive tables.';\n",
              "        element.innerHTML = '';\n",
              "        dataTable['output_type'] = 'display_data';\n",
              "        await google.colab.output.renderOutput(dataTable, element);\n",
              "        const docLink = document.createElement('div');\n",
              "        docLink.innerHTML = docLinkHtml;\n",
              "        element.appendChild(docLink);\n",
              "      }\n",
              "    </script>\n",
              "  </div>\n",
              "\n",
              "\n",
              "<div id=\"df-e1b32854-05f9-4eba-8118-6a8436b17491\">\n",
              "  <button class=\"colab-df-quickchart\" onclick=\"quickchart('df-e1b32854-05f9-4eba-8118-6a8436b17491')\"\n",
              "            title=\"Suggest charts\"\n",
              "            style=\"display:none;\">\n",
              "\n",
              "<svg xmlns=\"http://www.w3.org/2000/svg\" height=\"24px\"viewBox=\"0 0 24 24\"\n",
              "     width=\"24px\">\n",
              "    <g>\n",
              "        <path d=\"M19 3H5c-1.1 0-2 .9-2 2v14c0 1.1.9 2 2 2h14c1.1 0 2-.9 2-2V5c0-1.1-.9-2-2-2zM9 17H7v-7h2v7zm4 0h-2V7h2v10zm4 0h-2v-4h2v4z\"/>\n",
              "    </g>\n",
              "</svg>\n",
              "  </button>\n",
              "\n",
              "<style>\n",
              "  .colab-df-quickchart {\n",
              "      --bg-color: #E8F0FE;\n",
              "      --fill-color: #1967D2;\n",
              "      --hover-bg-color: #E2EBFA;\n",
              "      --hover-fill-color: #174EA6;\n",
              "      --disabled-fill-color: #AAA;\n",
              "      --disabled-bg-color: #DDD;\n",
              "  }\n",
              "\n",
              "  [theme=dark] .colab-df-quickchart {\n",
              "      --bg-color: #3B4455;\n",
              "      --fill-color: #D2E3FC;\n",
              "      --hover-bg-color: #434B5C;\n",
              "      --hover-fill-color: #FFFFFF;\n",
              "      --disabled-bg-color: #3B4455;\n",
              "      --disabled-fill-color: #666;\n",
              "  }\n",
              "\n",
              "  .colab-df-quickchart {\n",
              "    background-color: var(--bg-color);\n",
              "    border: none;\n",
              "    border-radius: 50%;\n",
              "    cursor: pointer;\n",
              "    display: none;\n",
              "    fill: var(--fill-color);\n",
              "    height: 32px;\n",
              "    padding: 0;\n",
              "    width: 32px;\n",
              "  }\n",
              "\n",
              "  .colab-df-quickchart:hover {\n",
              "    background-color: var(--hover-bg-color);\n",
              "    box-shadow: 0 1px 2px rgba(60, 64, 67, 0.3), 0 1px 3px 1px rgba(60, 64, 67, 0.15);\n",
              "    fill: var(--button-hover-fill-color);\n",
              "  }\n",
              "\n",
              "  .colab-df-quickchart-complete:disabled,\n",
              "  .colab-df-quickchart-complete:disabled:hover {\n",
              "    background-color: var(--disabled-bg-color);\n",
              "    fill: var(--disabled-fill-color);\n",
              "    box-shadow: none;\n",
              "  }\n",
              "\n",
              "  .colab-df-spinner {\n",
              "    border: 2px solid var(--fill-color);\n",
              "    border-color: transparent;\n",
              "    border-bottom-color: var(--fill-color);\n",
              "    animation:\n",
              "      spin 1s steps(1) infinite;\n",
              "  }\n",
              "\n",
              "  @keyframes spin {\n",
              "    0% {\n",
              "      border-color: transparent;\n",
              "      border-bottom-color: var(--fill-color);\n",
              "      border-left-color: var(--fill-color);\n",
              "    }\n",
              "    20% {\n",
              "      border-color: transparent;\n",
              "      border-left-color: var(--fill-color);\n",
              "      border-top-color: var(--fill-color);\n",
              "    }\n",
              "    30% {\n",
              "      border-color: transparent;\n",
              "      border-left-color: var(--fill-color);\n",
              "      border-top-color: var(--fill-color);\n",
              "      border-right-color: var(--fill-color);\n",
              "    }\n",
              "    40% {\n",
              "      border-color: transparent;\n",
              "      border-right-color: var(--fill-color);\n",
              "      border-top-color: var(--fill-color);\n",
              "    }\n",
              "    60% {\n",
              "      border-color: transparent;\n",
              "      border-right-color: var(--fill-color);\n",
              "    }\n",
              "    80% {\n",
              "      border-color: transparent;\n",
              "      border-right-color: var(--fill-color);\n",
              "      border-bottom-color: var(--fill-color);\n",
              "    }\n",
              "    90% {\n",
              "      border-color: transparent;\n",
              "      border-bottom-color: var(--fill-color);\n",
              "    }\n",
              "  }\n",
              "</style>\n",
              "\n",
              "  <script>\n",
              "    async function quickchart(key) {\n",
              "      const quickchartButtonEl =\n",
              "        document.querySelector('#' + key + ' button');\n",
              "      quickchartButtonEl.disabled = true;  // To prevent multiple clicks.\n",
              "      quickchartButtonEl.classList.add('colab-df-spinner');\n",
              "      try {\n",
              "        const charts = await google.colab.kernel.invokeFunction(\n",
              "            'suggestCharts', [key], {});\n",
              "      } catch (error) {\n",
              "        console.error('Error during call to suggestCharts:', error);\n",
              "      }\n",
              "      quickchartButtonEl.classList.remove('colab-df-spinner');\n",
              "      quickchartButtonEl.classList.add('colab-df-quickchart-complete');\n",
              "    }\n",
              "    (() => {\n",
              "      let quickchartButtonEl =\n",
              "        document.querySelector('#df-e1b32854-05f9-4eba-8118-6a8436b17491 button');\n",
              "      quickchartButtonEl.style.display =\n",
              "        google.colab.kernel.accessAllowed ? 'block' : 'none';\n",
              "    })();\n",
              "  </script>\n",
              "</div>\n",
              "\n",
              "  <div id=\"id_21bca41a-d95d-418e-a922-5d11234d6e72\">\n",
              "    <style>\n",
              "      .colab-df-generate {\n",
              "        background-color: #E8F0FE;\n",
              "        border: none;\n",
              "        border-radius: 50%;\n",
              "        cursor: pointer;\n",
              "        display: none;\n",
              "        fill: #1967D2;\n",
              "        height: 32px;\n",
              "        padding: 0 0 0 0;\n",
              "        width: 32px;\n",
              "      }\n",
              "\n",
              "      .colab-df-generate:hover {\n",
              "        background-color: #E2EBFA;\n",
              "        box-shadow: 0px 1px 2px rgba(60, 64, 67, 0.3), 0px 1px 3px 1px rgba(60, 64, 67, 0.15);\n",
              "        fill: #174EA6;\n",
              "      }\n",
              "\n",
              "      [theme=dark] .colab-df-generate {\n",
              "        background-color: #3B4455;\n",
              "        fill: #D2E3FC;\n",
              "      }\n",
              "\n",
              "      [theme=dark] .colab-df-generate:hover {\n",
              "        background-color: #434B5C;\n",
              "        box-shadow: 0px 1px 3px 1px rgba(0, 0, 0, 0.15);\n",
              "        filter: drop-shadow(0px 1px 2px rgba(0, 0, 0, 0.3));\n",
              "        fill: #FFFFFF;\n",
              "      }\n",
              "    </style>\n",
              "    <button class=\"colab-df-generate\" onclick=\"generateWithVariable('lookup')\"\n",
              "            title=\"Generate code using this dataframe.\"\n",
              "            style=\"display:none;\">\n",
              "\n",
              "  <svg xmlns=\"http://www.w3.org/2000/svg\" height=\"24px\"viewBox=\"0 0 24 24\"\n",
              "       width=\"24px\">\n",
              "    <path d=\"M7,19H8.4L18.45,9,17,7.55,7,17.6ZM5,21V16.75L18.45,3.32a2,2,0,0,1,2.83,0l1.4,1.43a1.91,1.91,0,0,1,.58,1.4,1.91,1.91,0,0,1-.58,1.4L9.25,21ZM18.45,9,17,7.55Zm-12,3A5.31,5.31,0,0,0,4.9,8.1,5.31,5.31,0,0,0,1,6.5,5.31,5.31,0,0,0,4.9,4.9,5.31,5.31,0,0,0,6.5,1,5.31,5.31,0,0,0,8.1,4.9,5.31,5.31,0,0,0,12,6.5,5.46,5.46,0,0,0,6.5,12Z\"/>\n",
              "  </svg>\n",
              "    </button>\n",
              "    <script>\n",
              "      (() => {\n",
              "      const buttonEl =\n",
              "        document.querySelector('#id_21bca41a-d95d-418e-a922-5d11234d6e72 button.colab-df-generate');\n",
              "      buttonEl.style.display =\n",
              "        google.colab.kernel.accessAllowed ? 'block' : 'none';\n",
              "\n",
              "      buttonEl.onclick = () => {\n",
              "        google.colab.notebook.generateWithVariable('lookup');\n",
              "      }\n",
              "      })();\n",
              "    </script>\n",
              "  </div>\n",
              "\n",
              "    </div>\n",
              "  </div>\n"
            ],
            "application/vnd.google.colaboratory.intrinsic+json": {
              "type": "dataframe",
              "variable_name": "lookup",
              "summary": "{\n  \"name\": \"lookup\",\n  \"rows\": 6,\n  \"fields\": [\n    {\n      \"column\": \"label\",\n      \"properties\": {\n        \"dtype\": \"string\",\n        \"num_unique_values\": 6,\n        \"samples\": [\n          \"cs.AI\",\n          \"cs.LG\",\n          \"stat.ML\"\n        ],\n        \"semantic_type\": \"\",\n        \"description\": \"\"\n      }\n    },\n    {\n      \"column\": \"category\",\n      \"properties\": {\n        \"dtype\": \"string\",\n        \"num_unique_values\": 6,\n        \"samples\": [\n          \"Artificial Intelligence\",\n          \"Machine Learning\",\n          \"Machine Learning (Statistics)\"\n        ],\n        \"semantic_type\": \"\",\n        \"description\": \"\"\n      }\n    }\n  ]\n}"
            }
          },
          "metadata": {},
          "execution_count": 42
        }
      ]
    },
    {
      "cell_type": "markdown",
      "source": [
        "Now let's look at the distributions of the summary texts."
      ],
      "metadata": {
        "id": "2AjwUH4iy0ZQ"
      }
    },
    {
      "cell_type": "code",
      "source": [
        "arXiv_df['word_count_summary'] = arXiv_df['summary'].apply(lambda x: len(str(x).split()))\n",
        "arXiv_df['summ_len'] = arXiv_df['summary'].apply(lambda x: len(str(x)))\n",
        "arXiv_df[['summary','summary_word_count','word_count_summary','summ_len']].head()"
      ],
      "metadata": {
        "colab": {
          "base_uri": "https://localhost:8080/",
          "height": 206
        },
        "id": "SpGo0Rp1wcWq",
        "outputId": "6a173543-4e43-482f-fc10-82aef7af5f96"
      },
      "execution_count": null,
      "outputs": [
        {
          "output_type": "execute_result",
          "data": {
            "text/plain": [
              "                                             summary  summary_word_count  \\\n",
              "0  Because of their occasional need to return to ...                  79   \n",
              "1  Market price systems constitute a well-underst...                 119   \n",
              "2  We describe an extensive study of search in GS...                 167   \n",
              "3  As real logic programmers normally use cut (!)...                 174   \n",
              "4  To support the goal of allowing users to recor...                 187   \n",
              "\n",
              "   word_count_summary  summ_len  \n",
              "0                  79       545  \n",
              "1                 119       876  \n",
              "2                 167      1075  \n",
              "3                 174      1120  \n",
              "4                 187      1289  "
            ],
            "text/html": [
              "\n",
              "  <div id=\"df-e0e7ad53-e3dc-463c-93db-352b6801e911\" class=\"colab-df-container\">\n",
              "    <div>\n",
              "<style scoped>\n",
              "    .dataframe tbody tr th:only-of-type {\n",
              "        vertical-align: middle;\n",
              "    }\n",
              "\n",
              "    .dataframe tbody tr th {\n",
              "        vertical-align: top;\n",
              "    }\n",
              "\n",
              "    .dataframe thead th {\n",
              "        text-align: right;\n",
              "    }\n",
              "</style>\n",
              "<table border=\"1\" class=\"dataframe\">\n",
              "  <thead>\n",
              "    <tr style=\"text-align: right;\">\n",
              "      <th></th>\n",
              "      <th>summary</th>\n",
              "      <th>summary_word_count</th>\n",
              "      <th>word_count_summary</th>\n",
              "      <th>summ_len</th>\n",
              "    </tr>\n",
              "  </thead>\n",
              "  <tbody>\n",
              "    <tr>\n",
              "      <th>0</th>\n",
              "      <td>Because of their occasional need to return to ...</td>\n",
              "      <td>79</td>\n",
              "      <td>79</td>\n",
              "      <td>545</td>\n",
              "    </tr>\n",
              "    <tr>\n",
              "      <th>1</th>\n",
              "      <td>Market price systems constitute a well-underst...</td>\n",
              "      <td>119</td>\n",
              "      <td>119</td>\n",
              "      <td>876</td>\n",
              "    </tr>\n",
              "    <tr>\n",
              "      <th>2</th>\n",
              "      <td>We describe an extensive study of search in GS...</td>\n",
              "      <td>167</td>\n",
              "      <td>167</td>\n",
              "      <td>1075</td>\n",
              "    </tr>\n",
              "    <tr>\n",
              "      <th>3</th>\n",
              "      <td>As real logic programmers normally use cut (!)...</td>\n",
              "      <td>174</td>\n",
              "      <td>174</td>\n",
              "      <td>1120</td>\n",
              "    </tr>\n",
              "    <tr>\n",
              "      <th>4</th>\n",
              "      <td>To support the goal of allowing users to recor...</td>\n",
              "      <td>187</td>\n",
              "      <td>187</td>\n",
              "      <td>1289</td>\n",
              "    </tr>\n",
              "  </tbody>\n",
              "</table>\n",
              "</div>\n",
              "    <div class=\"colab-df-buttons\">\n",
              "\n",
              "  <div class=\"colab-df-container\">\n",
              "    <button class=\"colab-df-convert\" onclick=\"convertToInteractive('df-e0e7ad53-e3dc-463c-93db-352b6801e911')\"\n",
              "            title=\"Convert this dataframe to an interactive table.\"\n",
              "            style=\"display:none;\">\n",
              "\n",
              "  <svg xmlns=\"http://www.w3.org/2000/svg\" height=\"24px\" viewBox=\"0 -960 960 960\">\n",
              "    <path d=\"M120-120v-720h720v720H120Zm60-500h600v-160H180v160Zm220 220h160v-160H400v160Zm0 220h160v-160H400v160ZM180-400h160v-160H180v160Zm440 0h160v-160H620v160ZM180-180h160v-160H180v160Zm440 0h160v-160H620v160Z\"/>\n",
              "  </svg>\n",
              "    </button>\n",
              "\n",
              "  <style>\n",
              "    .colab-df-container {\n",
              "      display:flex;\n",
              "      gap: 12px;\n",
              "    }\n",
              "\n",
              "    .colab-df-convert {\n",
              "      background-color: #E8F0FE;\n",
              "      border: none;\n",
              "      border-radius: 50%;\n",
              "      cursor: pointer;\n",
              "      display: none;\n",
              "      fill: #1967D2;\n",
              "      height: 32px;\n",
              "      padding: 0 0 0 0;\n",
              "      width: 32px;\n",
              "    }\n",
              "\n",
              "    .colab-df-convert:hover {\n",
              "      background-color: #E2EBFA;\n",
              "      box-shadow: 0px 1px 2px rgba(60, 64, 67, 0.3), 0px 1px 3px 1px rgba(60, 64, 67, 0.15);\n",
              "      fill: #174EA6;\n",
              "    }\n",
              "\n",
              "    .colab-df-buttons div {\n",
              "      margin-bottom: 4px;\n",
              "    }\n",
              "\n",
              "    [theme=dark] .colab-df-convert {\n",
              "      background-color: #3B4455;\n",
              "      fill: #D2E3FC;\n",
              "    }\n",
              "\n",
              "    [theme=dark] .colab-df-convert:hover {\n",
              "      background-color: #434B5C;\n",
              "      box-shadow: 0px 1px 3px 1px rgba(0, 0, 0, 0.15);\n",
              "      filter: drop-shadow(0px 1px 2px rgba(0, 0, 0, 0.3));\n",
              "      fill: #FFFFFF;\n",
              "    }\n",
              "  </style>\n",
              "\n",
              "    <script>\n",
              "      const buttonEl =\n",
              "        document.querySelector('#df-e0e7ad53-e3dc-463c-93db-352b6801e911 button.colab-df-convert');\n",
              "      buttonEl.style.display =\n",
              "        google.colab.kernel.accessAllowed ? 'block' : 'none';\n",
              "\n",
              "      async function convertToInteractive(key) {\n",
              "        const element = document.querySelector('#df-e0e7ad53-e3dc-463c-93db-352b6801e911');\n",
              "        const dataTable =\n",
              "          await google.colab.kernel.invokeFunction('convertToInteractive',\n",
              "                                                    [key], {});\n",
              "        if (!dataTable) return;\n",
              "\n",
              "        const docLinkHtml = 'Like what you see? Visit the ' +\n",
              "          '<a target=\"_blank\" href=https://colab.research.google.com/notebooks/data_table.ipynb>data table notebook</a>'\n",
              "          + ' to learn more about interactive tables.';\n",
              "        element.innerHTML = '';\n",
              "        dataTable['output_type'] = 'display_data';\n",
              "        await google.colab.output.renderOutput(dataTable, element);\n",
              "        const docLink = document.createElement('div');\n",
              "        docLink.innerHTML = docLinkHtml;\n",
              "        element.appendChild(docLink);\n",
              "      }\n",
              "    </script>\n",
              "  </div>\n",
              "\n",
              "\n",
              "<div id=\"df-64bfc6ac-2cf7-43d7-9fd7-7af7883cf52f\">\n",
              "  <button class=\"colab-df-quickchart\" onclick=\"quickchart('df-64bfc6ac-2cf7-43d7-9fd7-7af7883cf52f')\"\n",
              "            title=\"Suggest charts\"\n",
              "            style=\"display:none;\">\n",
              "\n",
              "<svg xmlns=\"http://www.w3.org/2000/svg\" height=\"24px\"viewBox=\"0 0 24 24\"\n",
              "     width=\"24px\">\n",
              "    <g>\n",
              "        <path d=\"M19 3H5c-1.1 0-2 .9-2 2v14c0 1.1.9 2 2 2h14c1.1 0 2-.9 2-2V5c0-1.1-.9-2-2-2zM9 17H7v-7h2v7zm4 0h-2V7h2v10zm4 0h-2v-4h2v4z\"/>\n",
              "    </g>\n",
              "</svg>\n",
              "  </button>\n",
              "\n",
              "<style>\n",
              "  .colab-df-quickchart {\n",
              "      --bg-color: #E8F0FE;\n",
              "      --fill-color: #1967D2;\n",
              "      --hover-bg-color: #E2EBFA;\n",
              "      --hover-fill-color: #174EA6;\n",
              "      --disabled-fill-color: #AAA;\n",
              "      --disabled-bg-color: #DDD;\n",
              "  }\n",
              "\n",
              "  [theme=dark] .colab-df-quickchart {\n",
              "      --bg-color: #3B4455;\n",
              "      --fill-color: #D2E3FC;\n",
              "      --hover-bg-color: #434B5C;\n",
              "      --hover-fill-color: #FFFFFF;\n",
              "      --disabled-bg-color: #3B4455;\n",
              "      --disabled-fill-color: #666;\n",
              "  }\n",
              "\n",
              "  .colab-df-quickchart {\n",
              "    background-color: var(--bg-color);\n",
              "    border: none;\n",
              "    border-radius: 50%;\n",
              "    cursor: pointer;\n",
              "    display: none;\n",
              "    fill: var(--fill-color);\n",
              "    height: 32px;\n",
              "    padding: 0;\n",
              "    width: 32px;\n",
              "  }\n",
              "\n",
              "  .colab-df-quickchart:hover {\n",
              "    background-color: var(--hover-bg-color);\n",
              "    box-shadow: 0 1px 2px rgba(60, 64, 67, 0.3), 0 1px 3px 1px rgba(60, 64, 67, 0.15);\n",
              "    fill: var(--button-hover-fill-color);\n",
              "  }\n",
              "\n",
              "  .colab-df-quickchart-complete:disabled,\n",
              "  .colab-df-quickchart-complete:disabled:hover {\n",
              "    background-color: var(--disabled-bg-color);\n",
              "    fill: var(--disabled-fill-color);\n",
              "    box-shadow: none;\n",
              "  }\n",
              "\n",
              "  .colab-df-spinner {\n",
              "    border: 2px solid var(--fill-color);\n",
              "    border-color: transparent;\n",
              "    border-bottom-color: var(--fill-color);\n",
              "    animation:\n",
              "      spin 1s steps(1) infinite;\n",
              "  }\n",
              "\n",
              "  @keyframes spin {\n",
              "    0% {\n",
              "      border-color: transparent;\n",
              "      border-bottom-color: var(--fill-color);\n",
              "      border-left-color: var(--fill-color);\n",
              "    }\n",
              "    20% {\n",
              "      border-color: transparent;\n",
              "      border-left-color: var(--fill-color);\n",
              "      border-top-color: var(--fill-color);\n",
              "    }\n",
              "    30% {\n",
              "      border-color: transparent;\n",
              "      border-left-color: var(--fill-color);\n",
              "      border-top-color: var(--fill-color);\n",
              "      border-right-color: var(--fill-color);\n",
              "    }\n",
              "    40% {\n",
              "      border-color: transparent;\n",
              "      border-right-color: var(--fill-color);\n",
              "      border-top-color: var(--fill-color);\n",
              "    }\n",
              "    60% {\n",
              "      border-color: transparent;\n",
              "      border-right-color: var(--fill-color);\n",
              "    }\n",
              "    80% {\n",
              "      border-color: transparent;\n",
              "      border-right-color: var(--fill-color);\n",
              "      border-bottom-color: var(--fill-color);\n",
              "    }\n",
              "    90% {\n",
              "      border-color: transparent;\n",
              "      border-bottom-color: var(--fill-color);\n",
              "    }\n",
              "  }\n",
              "</style>\n",
              "\n",
              "  <script>\n",
              "    async function quickchart(key) {\n",
              "      const quickchartButtonEl =\n",
              "        document.querySelector('#' + key + ' button');\n",
              "      quickchartButtonEl.disabled = true;  // To prevent multiple clicks.\n",
              "      quickchartButtonEl.classList.add('colab-df-spinner');\n",
              "      try {\n",
              "        const charts = await google.colab.kernel.invokeFunction(\n",
              "            'suggestCharts', [key], {});\n",
              "      } catch (error) {\n",
              "        console.error('Error during call to suggestCharts:', error);\n",
              "      }\n",
              "      quickchartButtonEl.classList.remove('colab-df-spinner');\n",
              "      quickchartButtonEl.classList.add('colab-df-quickchart-complete');\n",
              "    }\n",
              "    (() => {\n",
              "      let quickchartButtonEl =\n",
              "        document.querySelector('#df-64bfc6ac-2cf7-43d7-9fd7-7af7883cf52f button');\n",
              "      quickchartButtonEl.style.display =\n",
              "        google.colab.kernel.accessAllowed ? 'block' : 'none';\n",
              "    })();\n",
              "  </script>\n",
              "</div>\n",
              "\n",
              "    </div>\n",
              "  </div>\n"
            ],
            "application/vnd.google.colaboratory.intrinsic+json": {
              "type": "dataframe",
              "summary": "{\n  \"name\": \"arXiv_df[['summary','summary_word_count','word_count_summary','summ_len']]\",\n  \"rows\": 5,\n  \"fields\": [\n    {\n      \"column\": \"summary\",\n      \"properties\": {\n        \"dtype\": \"string\",\n        \"num_unique_values\": 5,\n        \"samples\": [\n          \"Market price systems constitute a well-understood class of mechanisms that\\nunder certain conditions provide effective decentralization of decision making\\nwith minimal communication overhead. In a market-oriented programming approach\\nto distributed problem solving, we derive the activities and resource\\nallocations for a set of computational agents by computing the competitive\\nequilibrium of an artificial economy. WALRAS provides basic constructs for\\ndefining computational market structures, and protocols for deriving their\\ncorresponding price equilibria. In a particular realization of this approach\\nfor a form of multicommodity flow problem, we see that careful construction of\\nthe decision process according to economic principles can lead to efficient\\ndistributed resource allocation, and that the behavior of the system can be\\nmeaningfully analyzed in economic terms.\",\n          \"To support the goal of allowing users to record and retrieve information,\\nthis paper describes an interactive note-taking system for pen-based computers\\nwith two distinctive features. First, it actively predicts what the user is\\ngoing to write. Second, it automatically constructs a custom, button-box user\\ninterface on request. The system is an example of a learning-apprentice\\nsoftware- agent. A machine learning component characterizes the syntax and\\nsemantics of the user's information. A performance system uses this learned\\ninformation to generate completion strings and construct a user interface.\\nDescription of Online Appendix: People like to record information. Doing this\\non paper is initially efficient, but lacks flexibility. Recording information\\non a computer is less efficient but more powerful. In our new note taking\\nsoftwre, the user records information directly on a computer. Behind the\\ninterface, an agent acts for the user. To help, it provides defaults and\\nconstructs a custom user interface. The demonstration is a QuickTime movie of\\nthe note taking agent in action. The file is a binhexed self-extracting\\narchive. Macintosh utilities for binhex are available from\\nmac.archive.umich.edu. QuickTime is available from ftp.apple.com in the\\ndts/mac/sys.soft/quicktime.\",\n          \"We describe an extensive study of search in GSAT, an approximation procedure\\nfor propositional satisfiability. GSAT performs greedy hill-climbing on the\\nnumber of satisfied clauses in a truth assignment. Our experiments provide a\\nmore complete picture of GSAT's search than previous accounts. We describe in\\ndetail the two phases of search: rapid hill-climbing followed by a long plateau\\nsearch. We demonstrate that when applied to randomly generated 3SAT problems,\\nthere is a very simple scaling with problem size for both the mean number of\\nsatisfied clauses and the mean branching rate. Our results allow us to make\\ndetailed numerical conjectures about the length of the hill-climbing phase, the\\naverage gradient of this phase, and to conjecture that both the average score\\nand average branching rate decay exponentially during plateau search. We end by\\nshowing how these results can be used to direct future theoretical analysis.\\nThis work provides a case study of how computer experiments can be used to\\nimprove understanding of the theoretical properties of algorithms.\"\n        ],\n        \"semantic_type\": \"\",\n        \"description\": \"\"\n      }\n    },\n    {\n      \"column\": \"summary_word_count\",\n      \"properties\": {\n        \"dtype\": \"number\",\n        \"std\": 45,\n        \"min\": 79,\n        \"max\": 187,\n        \"num_unique_values\": 5,\n        \"samples\": [\n          119,\n          187,\n          167\n        ],\n        \"semantic_type\": \"\",\n        \"description\": \"\"\n      }\n    },\n    {\n      \"column\": \"word_count_summary\",\n      \"properties\": {\n        \"dtype\": \"number\",\n        \"std\": 45,\n        \"min\": 79,\n        \"max\": 187,\n        \"num_unique_values\": 5,\n        \"samples\": [\n          119,\n          187,\n          167\n        ],\n        \"semantic_type\": \"\",\n        \"description\": \"\"\n      }\n    },\n    {\n      \"column\": \"summ_len\",\n      \"properties\": {\n        \"dtype\": \"number\",\n        \"std\": 284,\n        \"min\": 545,\n        \"max\": 1289,\n        \"num_unique_values\": 5,\n        \"samples\": [\n          876,\n          1289,\n          1075\n        ],\n        \"semantic_type\": \"\",\n        \"description\": \"\"\n      }\n    }\n  ]\n}"
            }
          },
          "metadata": {},
          "execution_count": 12
        }
      ]
    },
    {
      "cell_type": "markdown",
      "source": [
        "The word count distribution of the summary centered around 150 words."
      ],
      "metadata": {
        "id": "8JpmGPmGzEYg"
      }
    },
    {
      "cell_type": "code",
      "source": [
        "sns.histplot(arXiv_df['word_count_summary'], kde=True)"
      ],
      "metadata": {
        "colab": {
          "base_uri": "https://localhost:8080/",
          "height": 468
        },
        "id": "Gp2lhxQP0BAj",
        "outputId": "048cd576-7590-4b90-9a84-b26b60463eaa"
      },
      "execution_count": null,
      "outputs": [
        {
          "output_type": "execute_result",
          "data": {
            "text/plain": [
              "<Axes: xlabel='word_count_summary', ylabel='Count'>"
            ]
          },
          "metadata": {},
          "execution_count": 13
        },
        {
          "output_type": "display_data",
          "data": {
            "text/plain": [
              "<Figure size 640x480 with 1 Axes>"
            ],
            "image/png": "[encoded data removed]"
          },
          "metadata": {}
        }
      ]
    },
    {
      "cell_type": "markdown",
      "source": [
        "The distribution of the length of the summary is centered at a little over 1000."
      ],
      "metadata": {
        "id": "TXKektIOzY8Z"
      }
    },
    {
      "cell_type": "code",
      "source": [
        "sns.histplot(arXiv_df['summ_len'], kde=True)"
      ],
      "metadata": {
        "id": "hJKpHP_6K0EL",
        "outputId": "51c94702-714b-47da-da0a-a47ea62a00cd",
        "colab": {
          "base_uri": "https://localhost:8080/",
          "height": 468
        }
      },
      "execution_count": null,
      "outputs": [
        {
          "output_type": "execute_result",
          "data": {
            "text/plain": [
              "<Axes: xlabel='summ_len', ylabel='Count'>"
            ]
          },
          "metadata": {},
          "execution_count": 14
        },
        {
          "output_type": "display_data",
          "data": {
            "text/plain": [
              "<Figure size 640x480 with 1 Axes>"
            ],
            "image/png": "[encoded data removed]"
          },
          "metadata": {}
        }
      ]
    },
    {
      "cell_type": "markdown",
      "source": [
        "##Train-Test Split"
      ],
      "metadata": {
        "id": "55Vd4vmyzlLH"
      }
    },
    {
      "cell_type": "code",
      "source": [
        "arXiv_df_train = arXiv_df.sample(frac=0.8, random_state=124)\n",
        "arXiv_df_test = arXiv_df.drop(arXiv_df_train.index)\n",
        "\n",
        "arXiv_df_train['text'] = arXiv_df_train['title'] + arXiv_df_train['summary']\n",
        "arXiv_df_test['text'] = arXiv_df_test['title'] + arXiv_df_test['summary']\n",
        "\n",
        "arXiv_df_train.shape, arXiv_df_test.shape"
      ],
      "metadata": {
        "colab": {
          "base_uri": "https://localhost:8080/"
        },
        "id": "KsmzeCYF0FWp",
        "outputId": "3f22a34a-c8b5-4eb9-a860-69b30c9ace35"
      },
      "execution_count": null,
      "outputs": [
        {
          "output_type": "execute_result",
          "data": {
            "text/plain": [
              "((108990, 14), (27248, 14))"
            ]
          },
          "metadata": {},
          "execution_count": 15
        }
      ]
    },
    {
      "cell_type": "code",
      "source": [
        "text_train = arXiv_df_train['text'].tolist()\n",
        "labels_train = arXiv_df_train['label'].values.tolist()\n",
        "\n",
        "text_test = arXiv_df_test['text'].tolist()\n",
        "labels_test = arXiv_df_test['label'].values.tolist()\n",
        "\n",
        "labels_dist = arXiv_df_train['label'].drop_duplicates().values.tolist()\n",
        "labels_dist"
      ],
      "metadata": {
        "colab": {
          "base_uri": "https://localhost:8080/"
        },
        "id": "oaArUmZ38HyE",
        "outputId": "a372528e-4ce8-4016-b266-9e3d8b14826b"
      },
      "execution_count": null,
      "outputs": [
        {
          "output_type": "execute_result",
          "data": {
            "text/plain": [
              "['cs.LG', 'cs.CV', 'Other', 'cs.AI', 'cs.CL', 'cs.NE', 'stat.ML']"
            ]
          },
          "metadata": {},
          "execution_count": 16
        }
      ]
    },
    {
      "cell_type": "markdown",
      "source": [
        "#Text Classification Models"
      ],
      "metadata": {
        "id": "VRYKM9wFfN36"
      }
    },
    {
      "cell_type": "markdown",
      "source": [
        "## DistilBERT Transformer Model\n",
        "\n",
        "Bidirectional Encoder Representation from Transformers, or BERT, is a model that works to identify the context of a particular work.  As an example, Google Research mentions that the work \"bank\" has different meaning when describing the \"bank of a river\", rather that a place where you store your money.\n",
        "\n",
        "DistilBERT is a smaller and faster version of BERT.\n",
        "\n",
        "In a previous project, I had pretty good success with binary classification using a pre-trained DistilBERT model.  Let's see how it does with multi-class classification.\n",
        "\n",
        "The preprocessing will use distilbert preprocessing mode and classifier.  We set the max length of our text at 170 to speed up training."
      ],
      "metadata": {
        "id": "SsuQtRijgLHK"
      }
    },
    {
      "cell_type": "code",
      "source": [
        "train_model1, val_model1, preprocess_model1 = text.texts_from_array(\n",
        "    x_train=text_train,\n",
        "    y_train=labels_train,\n",
        "    class_names=labels_dist,\n",
        "    preprocess_mode='distilbert',\n",
        "    maxlen=170\n",
        ")"
      ],
      "metadata": {
        "colab": {
          "base_uri": "https://localhost:8080/",
          "height": 430
        },
        "id": "EeMzGjnK57cW",
        "outputId": "692b9524-5a79-454a-d399-71d33bed7864"
      },
      "execution_count": null,
      "outputs": [
        {
          "output_type": "stream",
          "name": "stderr",
          "text": [
            "/usr/local/lib/python3.11/dist-packages/huggingface_hub/utils/_auth.py:94: UserWarning: \n",
            "The secret `HF_TOKEN` does not exist in your Colab secrets.\n",
            "To authenticate with the Hugging Face Hub, create a token in your settings tab (https://huggingface.co/settings/tokens), set it as secret in your Google Colab and restart your session.\n",
            "You will be able to reuse this secret in all of your notebooks.\n",
            "Please note that authentication is recommended but still optional to access public models or datasets.\n",
            "  warnings.warn(\n"
          ]
        },
        {
          "output_type": "stream",
          "name": "stdout",
          "text": [
            "preprocessing train...\n",
            "language: en\n",
            "train sequence lengths:\n",
            "\tmean : 170\n",
            "\t95percentile : 258\n",
            "\t99percentile : 288\n"
          ]
        },
        {
          "output_type": "stream",
          "name": "stderr",
          "text": [
            "/usr/local/lib/python3.11/dist-packages/ktrain/utils.py:744: UserWarning: class_names argument was ignored, as they were extracted from string labels in dataset\n",
            "  warnings.warn(\n"
          ]
        },
        {
          "output_type": "display_data",
          "data": {
            "text/plain": [
              "<IPython.core.display.HTML object>"
            ],
            "text/html": [
              "\n",
              "<style>\n",
              "    /* Turns off some styling */\n",
              "    progress {\n",
              "        /* gets rid of default border in Firefox and Opera. */\n",
              "        border: none;\n",
              "        /* Needs to be in here for Safari polyfill so background images work as expected. */\n",
              "        background-size: auto;\n",
              "    }\n",
              "    progress:not([value]), progress:not([value])::-webkit-progress-bar {\n",
              "        background: repeating-linear-gradient(45deg, #7e7e7e, #7e7e7e 10px, #5c5c5c 10px, #5c5c5c 20px);\n",
              "    }\n",
              "    .progress-bar-interrupted, .progress-bar-interrupted::-webkit-progress-bar {\n",
              "        background: #F44336;\n",
              "    }\n",
              "</style>\n"
            ]
          },
          "metadata": {}
        },
        {
          "output_type": "display_data",
          "data": {
            "text/plain": [
              "<IPython.core.display.HTML object>"
            ],
            "text/html": []
          },
          "metadata": {}
        },
        {
          "output_type": "stream",
          "name": "stdout",
          "text": [
            "Is Multi-Label? False\n",
            "preprocessing test...\n",
            "language: en\n",
            "test sequence lengths:\n",
            "\tmean : 170\n",
            "\t95percentile : 259\n",
            "\t99percentile : 288\n"
          ]
        },
        {
          "output_type": "display_data",
          "data": {
            "text/plain": [
              "<IPython.core.display.HTML object>"
            ],
            "text/html": [
              "\n",
              "<style>\n",
              "    /* Turns off some styling */\n",
              "    progress {\n",
              "        /* gets rid of default border in Firefox and Opera. */\n",
              "        border: none;\n",
              "        /* Needs to be in here for Safari polyfill so background images work as expected. */\n",
              "        background-size: auto;\n",
              "    }\n",
              "    progress:not([value]), progress:not([value])::-webkit-progress-bar {\n",
              "        background: repeating-linear-gradient(45deg, #7e7e7e, #7e7e7e 10px, #5c5c5c 10px, #5c5c5c 20px);\n",
              "    }\n",
              "    .progress-bar-interrupted, .progress-bar-interrupted::-webkit-progress-bar {\n",
              "        background: #F44336;\n",
              "    }\n",
              "</style>\n"
            ]
          },
          "metadata": {}
        },
        {
          "output_type": "display_data",
          "data": {
            "text/plain": [
              "<IPython.core.display.HTML object>"
            ],
            "text/html": []
          },
          "metadata": {}
        },
        {
          "output_type": "stream",
          "name": "stdout",
          "text": [
            "task: text classification\n"
          ]
        }
      ]
    },
    {
      "cell_type": "code",
      "source": [
        "model = text.text_classifier('distilbert', train_data=train_model1, preproc=preprocess_model1, multilabel=True)"
      ],
      "metadata": {
        "colab": {
          "base_uri": "https://localhost:8080/"
        },
        "id": "hWdCZRa49cCP",
        "outputId": "20bef795-d7d5-493b-ad3c-09b849f36ef6"
      },
      "execution_count": null,
      "outputs": [
        {
          "output_type": "stream",
          "name": "stdout",
          "text": [
            "Is Multi-Label? True\n",
            "maxlen is 170\n",
            "done.\n"
          ]
        }
      ]
    },
    {
      "cell_type": "markdown",
      "source": [
        "The architecture of the model is very complex.  However, we do have a summary below with some of the details.\n",
        "\n",
        "More information is available in https://medium.com/huggingface/distilbert-8cf3380435b5"
      ],
      "metadata": {
        "id": "0lOMmYQO4XRs"
      }
    },
    {
      "cell_type": "code",
      "source": [
        "model.summary()"
      ],
      "metadata": {
        "colab": {
          "base_uri": "https://localhost:8080/"
        },
        "id": "zMH0X_RdsvLl",
        "outputId": "0548b963-18c3-4b6b-905c-84b46fd9aa0b"
      },
      "execution_count": null,
      "outputs": [
        {
          "output_type": "stream",
          "name": "stdout",
          "text": [
            "Model: \"tf_distil_bert_for_sequence_classification_2\"\n",
            "_________________________________________________________________\n",
            " Layer (type)                Output Shape              Param #   \n",
            "=================================================================\n",
            " distilbert (TFDistilBertMa  multiple                  66362880  \n",
            " inLayer)                                                        \n",
            "                                                                 \n",
            " pre_classifier (Dense)      multiple                  590592    \n",
            "                                                                 \n",
            " classifier (Dense)          multiple                  5383      \n",
            "                                                                 \n",
            " dropout_60 (Dropout)        multiple                  0 (unused)\n",
            "                                                                 \n",
            "=================================================================\n",
            "Total params: 66958855 (255.43 MB)\n",
            "Trainable params: 66958855 (255.43 MB)\n",
            "Non-trainable params: 0 (0.00 Byte)\n",
            "_________________________________________________________________\n"
          ]
        }
      ]
    },
    {
      "cell_type": "markdown",
      "source": [
        "This next step will train the model with different learning rates to help determine the max learning rate for our model."
      ],
      "metadata": {
        "id": "c44BDc8M3ooC"
      }
    },
    {
      "cell_type": "code",
      "source": [
        "learner_model1 = ktrain.get_learner(model, train_data=train_model1, val_data=val_model1, batch_size=64)"
      ],
      "metadata": {
        "id": "KL_NjWWo9zq_"
      },
      "execution_count": null,
      "outputs": []
    },
    {
      "cell_type": "code",
      "source": [
        "learner_model1.lr_find(max_epochs=5)"
      ],
      "metadata": {
        "colab": {
          "base_uri": "https://localhost:8080/"
        },
        "id": "i_GPgjZo-A9P",
        "outputId": "35fbc864-c3db-4dec-bb2e-839ff0d652e2"
      },
      "execution_count": null,
      "outputs": [
        {
          "output_type": "stream",
          "name": "stdout",
          "text": [
            "simulating training for different learning rates... this may take a few moments...\n",
            "Epoch 1/5\n",
            "1532/1532 [==============================] - 1641s 1s/step - loss: 1.5763 - binary_accuracy: 0.8644\n",
            "Epoch 2/5\n",
            "1532/1532 [==============================] - 1629s 1s/step - loss: 0.8403 - binary_accuracy: 0.8381\n",
            "Epoch 3/5\n",
            "1532/1532 [==============================] - 1624s 1s/step - loss: 1.3098 - binary_accuracy: 0.7767\n",
            "Epoch 4/5\n",
            "1532/1532 [==============================] - 1490s 973ms/step - loss: 1.7834 - binary_accuracy: 0.7807\n",
            "Epoch 5/5\n",
            "1532/1532 [==============================] - 407s 265ms/step - loss: 413.0753 - binary_accuracy: 0.7438\n",
            "\n",
            "\n",
            "done.\n",
            "Please invoke the Learner.lr_plot() method to visually inspect the loss plot to help identify the maximal learning rate associated with falling loss.\n"
          ]
        }
      ]
    },
    {
      "cell_type": "markdown",
      "source": [
        "After training the model with different learning rates, it looks like a max learning rate 10^4 is a good choice."
      ],
      "metadata": {
        "id": "ZswkboG-sT37"
      }
    },
    {
      "cell_type": "code",
      "source": [
        "learner_model1.lr_plot()"
      ],
      "metadata": {
        "colab": {
          "base_uri": "https://localhost:8080/",
          "height": 454
        },
        "id": "D2XLk2ZteUKp",
        "outputId": "9b4ed2a7-3958-4484-817f-0407e973127e"
      },
      "execution_count": null,
      "outputs": [
        {
          "output_type": "display_data",
          "data": {
            "text/plain": [
              "<Figure size 640x480 with 1 Axes>"
            ],
            "image/png": "[encoded data removed]"
          },
          "metadata": {}
        }
      ]
    },
    {
      "cell_type": "code",
      "source": [
        "learner_model1.reset_weights(verbose=0)\n",
        "learner_model1.autofit(\n",
        "    .0001,\n",
        "    epochs=10,\n",
        "    early_stopping=True\n",
        ")"
      ],
      "metadata": {
        "colab": {
          "base_uri": "https://localhost:8080/"
        },
        "id": "gfkSel7leYi2",
        "outputId": "555377a7-dcd7-4787-9ceb-0a644b5caa60"
      },
      "execution_count": null,
      "outputs": [
        {
          "output_type": "stream",
          "name": "stdout",
          "text": [
            "\n",
            "\n",
            "begin training using triangular learning rate policy with max lr of 0.0001...\n",
            "Epoch 1/10\n",
            "1533/1533 [==============================] - 1694s 1s/step - loss: 0.8282 - binary_accuracy: 0.8018 - val_loss: 0.6976 - val_binary_accuracy: 0.8067\n",
            "Epoch 2/10\n",
            "1533/1533 [==============================] - 1664s 1s/step - loss: 0.6441 - binary_accuracy: 0.8088 - val_loss: 0.6877 - val_binary_accuracy: 0.8103\n",
            "Epoch 3/10\n",
            "1533/1533 [==============================] - 1664s 1s/step - loss: 0.5565 - binary_accuracy: 0.8195 - val_loss: 0.6959 - val_binary_accuracy: 0.8110\n",
            "Epoch 3: early stopping\n",
            "Restoring model weights from the end of the best epoch: 2.\n",
            "Weights from best epoch have been loaded into model.\n"
          ]
        },
        {
          "output_type": "execute_result",
          "data": {
            "text/plain": [
              "<tf_keras.src.callbacks.History at 0x7c7c568dd190>"
            ]
          },
          "metadata": {},
          "execution_count": 25
        }
      ]
    },
    {
      "cell_type": "markdown",
      "source": [
        "Since the data is imbalanced, the macro avg f1-score is probably the most important measure of performance for this model.  The f1-score of 0.66 is about .5.  So, it is classifying the text well.  "
      ],
      "metadata": {
        "id": "sCDGUPT71yLz"
      }
    },
    {
      "cell_type": "code",
      "source": [
        "validation_model1 = learner_model1.validate(val_data=val_model1, print_report=True)"
      ],
      "metadata": {
        "colab": {
          "base_uri": "https://localhost:8080/"
        },
        "id": "NJeD5xyFu-Yk",
        "outputId": "a636d2e6-aa0d-45a4-cc26-6044fca5085b"
      },
      "execution_count": null,
      "outputs": [
        {
          "output_type": "stream",
          "name": "stdout",
          "text": [
            "341/341 [==============================] - 63s 185ms/step\n",
            "              precision    recall  f1-score   support\n",
            "\n",
            "           0       0.54      0.41      0.47      1103\n",
            "           1       0.72      0.57      0.63      1047\n",
            "           2       0.85      0.94      0.89      1990\n",
            "           3       0.88      0.91      0.89      2314\n",
            "           4       0.69      0.80      0.74      3176\n",
            "           5       0.65      0.67      0.66       448\n",
            "           6       0.46      0.28      0.34       821\n",
            "\n",
            "    accuracy                           0.74     10899\n",
            "   macro avg       0.68      0.65      0.66     10899\n",
            "weighted avg       0.73      0.74      0.73     10899\n",
            "\n"
          ]
        }
      ]
    },
    {
      "cell_type": "code",
      "source": [
        "predictor_model1 = ktrain.get_predictor(learner_model1.model, preprocess_model1)"
      ],
      "metadata": {
        "id": "T4KqeQmq0PYe"
      },
      "execution_count": null,
      "outputs": []
    },
    {
      "cell_type": "code",
      "source": [
        "predictor_model1.get_classes()"
      ],
      "metadata": {
        "colab": {
          "base_uri": "https://localhost:8080/"
        },
        "id": "58s336sb0giq",
        "outputId": "d962ff1a-c883-4f98-cfa3-64506246686e"
      },
      "execution_count": null,
      "outputs": [
        {
          "output_type": "execute_result",
          "data": {
            "text/plain": [
              "['Other', 'cs.AI', 'cs.CL', 'cs.CV', 'cs.LG', 'cs.NE', 'stat.ML']"
            ]
          },
          "metadata": {},
          "execution_count": 28
        }
      ]
    },
    {
      "cell_type": "markdown",
      "source": [
        "##fastText Model\n",
        "\n",
        "The next model that we will try is a model called\n",
        "fastText. This algorithm is a mush faster than a deep-learning algorithm is supposed to give similar results.\n",
        "\n",
        "More information on the algorithm can be found here: https://arxiv.org/pdf/1607.01759"
      ],
      "metadata": {
        "id": "26dh0XdQhYCR"
      }
    },
    {
      "cell_type": "markdown",
      "source": [
        "The 'standard' preprossing in ktrain makes everythin lower-case and removes punctuation.  However, it does not remove stop-words.  So, in a future run, I should probably do additional preprossing."
      ],
      "metadata": {
        "id": "i522Mz2j30ED"
      }
    },
    {
      "cell_type": "code",
      "source": [
        "train_model2, val_model2, preprocess_model2 = text.texts_from_array(\n",
        "    x_train=text_train,\n",
        "    y_train=labels_train,\n",
        "    x_test=None,\n",
        "    y_test=None,\n",
        "    preprocess_mode='standard',\n",
        "    maxlen=150\n",
        ")"
      ],
      "metadata": {
        "colab": {
          "base_uri": "https://localhost:8080/"
        },
        "id": "2u_KN3PKyAuE",
        "outputId": "365c69c3-b8bd-4915-a694-a7bb3241c6d4"
      },
      "execution_count": null,
      "outputs": [
        {
          "output_type": "stream",
          "name": "stdout",
          "text": [
            "language: en\n",
            "Word Counts: 169133\n",
            "Nrows: 98091\n",
            "98091 train sequences\n",
            "train sequence lengths:\n",
            "\tmean : 174\n",
            "\t95percentile : 264\n",
            "\t99percentile : 293\n",
            "x_train shape: (98091,150)\n",
            "y_train shape: (98091, 7)\n",
            "Is Multi-Label? False\n",
            "10899 test sequences\n",
            "test sequence lengths:\n",
            "\tmean : 173\n",
            "\t95percentile : 262\n",
            "\t99percentile : 294\n",
            "x_test shape: (10899,150)\n",
            "y_test shape: (10899, 7)\n",
            "task: text classification\n"
          ]
        }
      ]
    },
    {
      "cell_type": "code",
      "source": [
        "model = text.text_classifier('fasttext', train_data=train_model2, preproc=preprocess_model2, multilabel=True)"
      ],
      "metadata": {
        "id": "AjsNdjEX0Jm-",
        "colab": {
          "base_uri": "https://localhost:8080/"
        },
        "outputId": "8fd2262a-9f40-4c25-8d1e-7d17f7f7c814"
      },
      "execution_count": null,
      "outputs": [
        {
          "output_type": "stream",
          "name": "stdout",
          "text": [
            "Is Multi-Label? True\n",
            "compiling word ID features...\n",
            "maxlen is 150\n",
            "done.\n"
          ]
        }
      ]
    },
    {
      "cell_type": "markdown",
      "source": [
        "Below is summary of the model architecture."
      ],
      "metadata": {
        "id": "n0jRWGFm1i1s"
      }
    },
    {
      "cell_type": "code",
      "source": [
        "model.summary()"
      ],
      "metadata": {
        "colab": {
          "base_uri": "https://localhost:8080/"
        },
        "id": "JfOBzbu_siO1",
        "outputId": "a892b4c9-ebe4-4e60-df03-e19b08423e57"
      },
      "execution_count": null,
      "outputs": [
        {
          "output_type": "stream",
          "name": "stdout",
          "text": [
            "Model: \"sequential\"\n",
            "_________________________________________________________________\n",
            " Layer (type)                Output Shape              Param #   \n",
            "=================================================================\n",
            " embedding (Embedding)       (None, 150, 64)           1280000   \n",
            "                                                                 \n",
            " spatial_dropout1d (Spatial  (None, 150, 64)           0         \n",
            " Dropout1D)                                                      \n",
            "                                                                 \n",
            " global_max_pooling1d (Glob  (None, 64)                0         \n",
            " alMaxPooling1D)                                                 \n",
            "                                                                 \n",
            " batch_normalization (Batch  (None, 64)                256       \n",
            " Normalization)                                                  \n",
            "                                                                 \n",
            " dense (Dense)               (None, 64)                4160      \n",
            "                                                                 \n",
            " dropout_40 (Dropout)        (None, 64)                0         \n",
            "                                                                 \n",
            " dense_1 (Dense)             (None, 7)                 455       \n",
            "                                                                 \n",
            "=================================================================\n",
            "Total params: 1284871 (4.90 MB)\n",
            "Trainable params: 1284743 (4.90 MB)\n",
            "Non-trainable params: 128 (512.00 Byte)\n",
            "_________________________________________________________________\n"
          ]
        }
      ]
    },
    {
      "cell_type": "code",
      "source": [
        "learner_model2 = ktrain.get_learner(model, train_data=train_model2, val_data=val_model2, batch_size=64)"
      ],
      "metadata": {
        "id": "YlE3oTU82aSc"
      },
      "execution_count": null,
      "outputs": []
    },
    {
      "cell_type": "code",
      "source": [
        "learner_model2.lr_find(max_epochs=5)"
      ],
      "metadata": {
        "colab": {
          "base_uri": "https://localhost:8080/"
        },
        "id": "_jWmKDst2R7A",
        "outputId": "8bc737e6-19a1-43d7-9762-12056d4bdb29"
      },
      "execution_count": null,
      "outputs": [
        {
          "output_type": "stream",
          "name": "stdout",
          "text": [
            "simulating training for different learning rates... this may take a few moments...\n"
          ]
        },
        {
          "output_type": "stream",
          "name": "stderr",
          "text": [
            "/usr/local/lib/python3.11/dist-packages/tf_keras/src/engine/training.py:3098: UserWarning: You are saving your model as an HDF5 file via `model.save()`. This file format is considered legacy. We recommend using instead the native TF-Keras format, e.g. `model.save('my_model.keras')`.\n",
            "  saving_api.save_model(\n"
          ]
        },
        {
          "output_type": "stream",
          "name": "stdout",
          "text": [
            "Epoch 1/5\n",
            "1533/1533 [==============================] - 8s 5ms/step - loss: 0.8363 - binary_accuracy: 0.5123\n",
            "Epoch 2/5\n",
            "1533/1533 [==============================] - 7s 5ms/step - loss: 0.7036 - binary_accuracy: 0.6053\n",
            "Epoch 3/5\n",
            "1533/1533 [==============================] - 7s 5ms/step - loss: 0.3546 - binary_accuracy: 0.8611\n",
            "Epoch 4/5\n",
            "1533/1533 [==============================] - 7s 5ms/step - loss: 0.3098 - binary_accuracy: 0.8823\n",
            "Epoch 5/5\n",
            "1533/1533 [==============================] - 7s 5ms/step - loss: 0.4035 - binary_accuracy: 0.8532\n",
            "\n",
            "\n",
            "done.\n",
            "Please invoke the Learner.lr_plot() method to visually inspect the loss plot to help identify the maximal learning rate associated with falling loss.\n"
          ]
        }
      ]
    },
    {
      "cell_type": "markdown",
      "source": [
        "This next step will train the model with different learning rates to help determine the max learning rate for our model.\n",
        "\n"
      ],
      "metadata": {
        "id": "VipDrV951cJ1"
      }
    },
    {
      "cell_type": "code",
      "source": [
        "learner_model2.lr_plot()"
      ],
      "metadata": {
        "id": "4_8HUDaN2uJD",
        "colab": {
          "base_uri": "https://localhost:8080/",
          "height": 454
        },
        "outputId": "5b793b34-9ea6-45b6-93f3-c7676a0dec91"
      },
      "execution_count": null,
      "outputs": [
        {
          "output_type": "display_data",
          "data": {
            "text/plain": [
              "<Figure size 640x480 with 1 Axes>"
            ],
            "image/png": "[encoded data removed]"
          },
          "metadata": {}
        }
      ]
    },
    {
      "cell_type": "markdown",
      "source": [
        "From the chart above, the performance gets much worse aroud a learning rate of .1. I will set my maximum learning rate to .01, which had the lowest loss, when training the model.\n",
        "\n",
        "The autofit method in ktrain employs a triangular learning rate schedule and uses the supplied learning rate as the maximum learning rate.  It includes the 'early_stopping' aurgument, which stops the training when the epoch fails to produce a lower 'val_loss'.\n",
        "\n",
        "The fit_onecycle method is a nice alternative to the autofit method, that sometimes produces different results.  However, it does not have the 'early_stopping' option."
      ],
      "metadata": {
        "id": "gmKH7i7J1GsM"
      }
    },
    {
      "cell_type": "code",
      "source": [
        "learner_model2.autofit(\n",
        "    .01,\n",
        "    epochs=10,\n",
        "    early_stopping=True\n",
        ")"
      ],
      "metadata": {
        "id": "vm0Ti_xK223n",
        "colab": {
          "base_uri": "https://localhost:8080/"
        },
        "outputId": "39dd7391-8c90-4190-cab5-50acaf4a1d18"
      },
      "execution_count": null,
      "outputs": [
        {
          "output_type": "stream",
          "name": "stdout",
          "text": [
            "\n",
            "\n",
            "begin training using triangular learning rate policy with max lr of 0.01...\n",
            "Epoch 1/10\n",
            "1533/1533 [==============================] - 9s 6ms/step - loss: 0.2998 - binary_accuracy: 0.8815 - val_loss: 0.2166 - val_binary_accuracy: 0.9139\n",
            "Epoch 2/10\n",
            "1533/1533 [==============================] - 9s 6ms/step - loss: 0.2388 - binary_accuracy: 0.9057 - val_loss: 0.2062 - val_binary_accuracy: 0.9177\n",
            "Epoch 3/10\n",
            "1533/1533 [==============================] - 9s 6ms/step - loss: 0.2281 - binary_accuracy: 0.9105 - val_loss: 0.2023 - val_binary_accuracy: 0.9184\n",
            "Epoch 4/10\n",
            "1533/1533 [==============================] - 9s 6ms/step - loss: 0.2200 - binary_accuracy: 0.9135 - val_loss: 0.1987 - val_binary_accuracy: 0.9198\n",
            "Epoch 5/10\n",
            "1533/1533 [==============================] - 9s 6ms/step - loss: 0.2138 - binary_accuracy: 0.9162 - val_loss: 0.1966 - val_binary_accuracy: 0.9207\n",
            "Epoch 6/10\n",
            "1533/1533 [==============================] - 9s 6ms/step - loss: 0.2079 - binary_accuracy: 0.9182 - val_loss: 0.1960 - val_binary_accuracy: 0.9207\n",
            "Epoch 7/10\n",
            "1533/1533 [==============================] - 9s 6ms/step - loss: 0.2020 - binary_accuracy: 0.9205 - val_loss: 0.1944 - val_binary_accuracy: 0.9213\n",
            "Epoch 8/10\n",
            "1533/1533 [==============================] - 9s 6ms/step - loss: 0.1984 - binary_accuracy: 0.9218 - val_loss: 0.1954 - val_binary_accuracy: 0.9216\n",
            "Epoch 8: early stopping\n",
            "Restoring model weights from the end of the best epoch: 7.\n",
            "Weights from best epoch have been loaded into model.\n"
          ]
        },
        {
          "output_type": "execute_result",
          "data": {
            "text/plain": [
              "<tf_keras.src.callbacks.History at 0x7c7c53b87f10>"
            ]
          },
          "metadata": {},
          "execution_count": 35
        }
      ]
    },
    {
      "cell_type": "markdown",
      "source": [
        "The Fast-Text algorithm trained with blazing speed, compared to the deep learning algorithm.  However, the F1-score on the validation data is lower accross all categories, compared to the DistilBERT model.\n",
        "\n",
        "The macro avg. f1-score is .51, well below the 0.66 from the DistilBERT model."
      ],
      "metadata": {
        "id": "kBrpN3NSudq-"
      }
    },
    {
      "cell_type": "code",
      "source": [
        "validation_model2 = learner_model2.validate(val_data=val_model2, print_report=True)"
      ],
      "metadata": {
        "colab": {
          "base_uri": "https://localhost:8080/"
        },
        "id": "ZcVhlx2r3OA4",
        "outputId": "39897ed9-13fc-4a30-9fee-329a96771a68"
      },
      "execution_count": null,
      "outputs": [
        {
          "output_type": "stream",
          "name": "stdout",
          "text": [
            "341/341 [==============================] - 1s 1ms/step\n",
            "              precision    recall  f1-score   support\n",
            "\n",
            "           0       0.00      0.00      0.00      1066\n",
            "           1       0.77      0.40      0.53      1051\n",
            "           2       0.88      0.87      0.87      2018\n",
            "           3       0.91      0.84      0.87      2340\n",
            "           4       0.70      0.66      0.68      3127\n",
            "           5       0.77      0.43      0.55       456\n",
            "           6       0.50      0.04      0.07       841\n",
            "\n",
            "   micro avg       0.81      0.59      0.68     10899\n",
            "   macro avg       0.65      0.46      0.51     10899\n",
            "weighted avg       0.70      0.59      0.62     10899\n",
            " samples avg       0.59      0.59      0.59     10899\n",
            "\n"
          ]
        },
        {
          "output_type": "stream",
          "name": "stderr",
          "text": [
            "/usr/local/lib/python3.11/dist-packages/ktrain/core.py:226: UserWarning: Confusion matrices do not currently support multilabel classification, so returning None\n",
            "  warnings.warn(\n"
          ]
        }
      ]
    },
    {
      "cell_type": "code",
      "source": [
        "predictor_model2 = ktrain.get_predictor(learner_model2.model, preprocess_model2)"
      ],
      "metadata": {
        "id": "oeFop4fWTRTf"
      },
      "execution_count": null,
      "outputs": []
    },
    {
      "cell_type": "code",
      "source": [
        "predictor_model2.get_classes()"
      ],
      "metadata": {
        "colab": {
          "base_uri": "https://localhost:8080/"
        },
        "id": "58ZzPbKnTNdZ",
        "outputId": "40480e37-d690-4133-c8c7-109de9c55456"
      },
      "execution_count": null,
      "outputs": [
        {
          "output_type": "execute_result",
          "data": {
            "text/plain": [
              "['Other', 'cs.AI', 'cs.CL', 'cs.CV', 'cs.LG', 'cs.NE', 'stat.ML']"
            ]
          },
          "metadata": {},
          "execution_count": 40
        }
      ]
    },
    {
      "cell_type": "markdown",
      "source": [
        "ktrain includes a 'view_top_losses' method that allows us to quickly evaluate our biggest misses from the prediction algorithm.  It looks like the first, third, and fifth results below are about CNNs, and the model incorrectly predicted 'Computer Vision and Pattern Recognition'.  However, given that they are about CNNs, 'Computer Vision and Pattern Recognition' might be a better category than the current category in the archive.  Unfortunately, this option did not work on the DistilBERT model."
      ],
      "metadata": {
        "id": "wCuNZcxgz3vb"
      }
    },
    {
      "cell_type": "code",
      "source": [
        "learner_model2.view_top_losses(n=5, preproc=preprocess_model2)"
      ],
      "metadata": {
        "id": "4yyk07DvBoFI",
        "colab": {
          "base_uri": "https://localhost:8080/"
        },
        "outputId": "044ba249-d595-4a34-8a47-81f146e8566a"
      },
      "execution_count": null,
      "outputs": [
        {
          "output_type": "stream",
          "name": "stdout",
          "text": [
            "341/341 [==============================] - 0s 1ms/step\n",
            "----------\n",
            "id:4751 | loss:2.34 | true:[0. 0. 0. 0. 0. 0. 1.] | pred:[0. 0. 0. 1. 0. 0. 0.])\n",
            "\n",
            "3d convolutional neural networks for brain tumor segmentation a comparison of multi resolution paper analyzes the use of 3d convolutional neural networks for brain tumor segmentation in mr images we address the problem using three different architectures that combine fine and coarse features to obtain the final segmentation we compare three different networks that use multi resolution features in terms of both design and performance and we show that they improve their single resolution counterparts\n",
            "----------\n",
            "id:8585 | loss:2.18 | true:[0. 0. 0. 0. 0. 0. 1.] | pred:[0.01 0.   0.99 0.   0.   0.   0.  ])\n",
            "\n",
            "using millions of emoji occurrences to learn any domain representations for detecting sentiment emotion and tasks are often limited by scarcity of manually annotated data in social media sentiment analysis and related tasks researchers have therefore used binarized and specific hashtags as forms of distant supervision our paper shows that by extending the distant supervision to a more diverse set of noisy labels the models can learn richer representations through emoji prediction on a dataset of million tweets containing one of 64 common emojis we obtain state of the art performance on 8 benchmark datasets within sentiment emotion and sarcasm detection using a single pretrained model our analyses confirm that the diversity of our emotional labels yield a performance improvement over previous distant supervision approaches\n",
            "----------\n",
            "id:5789 | loss:2.15 | true:[0. 0. 0. 0. 0. 1. 0.] | pred:[0. 0. 0. 1. 0. 0. 0.])\n",
            "\n",
            "mixer swin transformer and vgg 16 resnet 18 resnet 50 and resnet 110 mobilenetv2 we also evaluate object detection and segmentation tasks on coco kitti benchmark and lane detection dataset using a variety of models experimental results demonstrate that our slr based weight pruning optimization approach achieves a higher compression rate than state of the art methods under the same accuracy requirement and also can achieve higher accuracy under the same compression rate requirement under classification tasks our slr approach converges to the desired accuracy 3 times faster on both of the datasets under object detection and segmentation tasks slr also converges 2 times faster to the desired accuracy further our slr achieves high model accuracy even at the hard pruning stage without retraining which reduces the traditional three stage pruning into a two stage process given a limited budget of retraining epochs our approach quickly recovers the model's accuracy\n",
            "----------\n",
            "id:5356 | loss:2.07 | true:[0. 0. 0. 0. 1. 0. 0.] | pred:[0. 0. 1. 0. 0. 0. 0.])\n",
            "\n",
            "question is it possible for an nmt system to predict same translation even when multiple words in the source sentence have been replaced to this end we propose a soft attention based technique to make the aforementioned word replacements the experiments are conducted on two language pairs english german en de and english french en fr and two state of the art nmt systems blstm based encoder decoder with attention and transformer the proposed soft attention based technique achieves high success rate and outperforms existing methods like by a significant margin for all the conducted experiments the results demonstrate that state of the art nmt systems are unable to capture the semantics of the source language the proposed soft attention based technique is an invariance based adversarial attack on nmt systems to better evaluate such attacks we propose an alternate metric and argue its benefits in comparison with success rate\n",
            "----------\n",
            "id:6351 | loss:2.02 | true:[0. 0. 0. 0. 0. 0. 1.] | pred:[0. 0. 0. 1. 0. 0. 0.])\n",
            "\n",
            "extraction scheme based on inception models for pixel classification tasks we extract features under multi scale and multi layer schemes through convolutional operators layers of fully convolutional network are later stacked on this feature extraction layers and trained end to end for the purpose of classification we test our model on the drive and stare public data sets for the purpose of segmentation and detection and it out performs most existing hand crafted or deterministic feature schemes found in literature we achieve an average maximum dice of 0 85 on the drive data set which out performs the scores from the second human annotator of this data set we also achieve an average maximum dice of 0 85 and kappa of 0 84 on the stare data set though these datasets are mainly 2 d we also propose ways of extending this feature extraction scheme to handle 3 d datasets\n"
          ]
        }
      ]
    },
    {
      "cell_type": "code",
      "source": [
        "predictions_model1 = predictor_model1.predict(text_test)"
      ],
      "metadata": {
        "id": "_RG-zqK9eTgF"
      },
      "execution_count": null,
      "outputs": []
    },
    {
      "cell_type": "code",
      "source": [
        "predictions_model1[0]"
      ],
      "metadata": {
        "colab": {
          "base_uri": "https://localhost:8080/",
          "height": 35
        },
        "id": "8XyTNL4ng2h-",
        "outputId": "8f7e0b84-3889-48c2-96d9-1e3baa37cc55"
      },
      "execution_count": null,
      "outputs": [
        {
          "output_type": "execute_result",
          "data": {
            "text/plain": [
              "'cs.AI'"
            ],
            "application/vnd.google.colaboratory.intrinsic+json": {
              "type": "string"
            }
          },
          "metadata": {},
          "execution_count": 72
        }
      ]
    },
    {
      "cell_type": "code",
      "source": [
        "predictions_model2 = predictor_model2.predict(text_test)"
      ],
      "metadata": {
        "id": "Rc_8R0i0UuIq"
      },
      "execution_count": null,
      "outputs": []
    },
    {
      "cell_type": "code",
      "source": [
        "pred_list_model2 = []\n",
        "for prediction in predictions_model2:\n",
        "  max_value = 0\n",
        "  for class_label, prob in prediction:\n",
        "    if prob > max_value:\n",
        "      max_value = prob\n",
        "      preds = class_label\n",
        "  pred_list_model2.append(preds)"
      ],
      "metadata": {
        "id": "9ZvavOL4b5ca"
      },
      "execution_count": null,
      "outputs": []
    },
    {
      "cell_type": "markdown",
      "source": [
        "#Evaluation"
      ],
      "metadata": {
        "id": "0ULrXCC9fFDL"
      }
    },
    {
      "cell_type": "markdown",
      "source": [
        "##DistilBERT model"
      ],
      "metadata": {
        "id": "SJUf3_8_s7jE"
      }
    },
    {
      "cell_type": "markdown",
      "source": [
        "The results of the DistilBERT model are extremely impressive.  One area where there is room for improvement is in 'Machine Learning (Statistics)'.  A large number of those cases were getting predicted as 'Computer Vision and Pattern Recognition'.  However, when we reviewed the top loss results of the 'Fast-Text' model, there were papers on CNNs that appear to be incorrectly labeled as 'Machine Learning (Statistics)'.  So, it could be the case that the model is working as expected and some of the difference is due to human-error while categorizing the articles."
      ],
      "metadata": {
        "id": "tUG7AH1nizQ6"
      }
    },
    {
      "cell_type": "code",
      "source": [
        "con_matrix_model1 = confusion_matrix(labels_test,predictions_model1)"
      ],
      "metadata": {
        "id": "cf0EzUdFhEVk"
      },
      "execution_count": null,
      "outputs": []
    },
    {
      "cell_type": "code",
      "source": [
        "display = ConfusionMatrixDisplay(con_matrix_model1, display_labels=labels_dist)\n",
        "display.plot()\n",
        "plt.show()\n",
        "print(classification_report(labels_test,predictions_model1))"
      ],
      "metadata": {
        "colab": {
          "base_uri": "https://localhost:8080/",
          "height": 699
        },
        "id": "PRgc7ackg-wx",
        "outputId": "e6c91e86-f41c-45b4-fbde-7585853e1600"
      },
      "execution_count": null,
      "outputs": [
        {
          "output_type": "display_data",
          "data": {
            "text/plain": [
              "<Figure size 640x480 with 2 Axes>"
            ],
            "image/png": "[encoded data removed]"
          },
          "metadata": {}
        },
        {
          "output_type": "stream",
          "name": "stdout",
          "text": [
            "              precision    recall  f1-score   support\n",
            "\n",
            "       Other       0.52      0.40      0.45      2551\n",
            "       cs.AI       0.70      0.60      0.65      2572\n",
            "       cs.CL       0.86      0.94      0.90      5064\n",
            "       cs.CV       0.89      0.92      0.90      5924\n",
            "       cs.LG       0.71      0.79      0.75      8035\n",
            "       cs.NE       0.65      0.66      0.66      1144\n",
            "     stat.ML       0.48      0.33      0.39      1958\n",
            "\n",
            "    accuracy                           0.75     27248\n",
            "   macro avg       0.69      0.66      0.67     27248\n",
            "weighted avg       0.74      0.75      0.74     27248\n",
            "\n"
          ]
        }
      ]
    },
    {
      "cell_type": "markdown",
      "source": [
        "##fastText Model\n",
        "\n",
        "The DistilBERT model did much better at classifying the articles than the fastText model.  However, given the speed to train and to make predictions, the results from the fastText Model on the testing data are very impressive and appear to be better than the results on the validation data.  The testing data has a weighted average f1-score of 0.68, which is below the 0.74 in from the DistilBERT model.  In fact, the DistilBERT model was better at predicting every category.\n",
        "\n",
        "One thing that really stands out when reviewing the fastText model results is that it severly underpredicted the 'Machine Learning' category, often predicting 'Computation and Language'.  This is something to research further.\n",
        "  "
      ],
      "metadata": {
        "id": "edgQslyof2v8"
      }
    },
    {
      "cell_type": "code",
      "source": [
        "con_matrix_model2 = confusion_matrix(labels_test,pred_list_model2)"
      ],
      "metadata": {
        "id": "WpeQI0AaWSoX"
      },
      "execution_count": null,
      "outputs": []
    },
    {
      "cell_type": "code",
      "source": [
        "display = ConfusionMatrixDisplay(con_matrix_model2, display_labels=labels_dist)\n",
        "display.plot()\n",
        "plt.show()\n",
        "print(classification_report(labels_test,pred_list_model2))"
      ],
      "metadata": {
        "colab": {
          "base_uri": "https://localhost:8080/",
          "height": 699
        },
        "id": "dTWC_zhEdD4m",
        "outputId": "cb021ab4-2ba1-48e4-a14f-17d35e097dde"
      },
      "execution_count": null,
      "outputs": [
        {
          "output_type": "display_data",
          "data": {
            "text/plain": [
              "<Figure size 640x480 with 2 Axes>"
            ],
            "image/png": "[encoded data removed]"
          },
          "metadata": {}
        },
        {
          "output_type": "stream",
          "name": "stdout",
          "text": [
            "              precision    recall  f1-score   support\n",
            "\n",
            "       Other       0.41      0.11      0.17      2551\n",
            "       cs.AI       0.68      0.55      0.60      2572\n",
            "       cs.CL       0.82      0.93      0.87      5064\n",
            "       cs.CV       0.88      0.88      0.88      5924\n",
            "       cs.LG       0.62      0.85      0.72      8035\n",
            "       cs.NE       0.67      0.59      0.63      1144\n",
            "     stat.ML       0.46      0.17      0.25      1958\n",
            "\n",
            "    accuracy                           0.71     27248\n",
            "   macro avg       0.65      0.58      0.59     27248\n",
            "weighted avg       0.69      0.71      0.68     27248\n",
            "\n"
          ]
        }
      ]
    },
    {
      "cell_type": "markdown",
      "source": [
        "##Prediction for this Notebook"
      ],
      "metadata": {
        "id": "TORzS6VmqqOM"
      }
    },
    {
      "cell_type": "markdown",
      "source": [
        "Just for fun.  Let's see what the models would categorize this report using the description in the 'Objective' section.\n",
        "\n",
        "Both models categorized this report as 'Computation and Language', which I think is the most applicable category."
      ],
      "metadata": {
        "id": "vQY-H7-hp8a8"
      }
    },
    {
      "cell_type": "code",
      "source": [
        "predictor_model1.predict(\" The open-access archive, arXiv, uses category taxinomy to categorize the various articles in the archive. Ealier today, I asked ChatGPT how these categories are assigned.  In short, these categories are assigned by the auther from a pre-defined list.  Then, volunteer moderators review the submission and confirm than the categories are appropriate.The goal of this project is to train a deep-learning model to categorize the articles.  Such a model could potentially reduce the workload of both the author and the moderator.\")"
      ],
      "metadata": {
        "colab": {
          "base_uri": "https://localhost:8080/",
          "height": 35
        },
        "id": "MMkzjVz5phVm",
        "outputId": "6498fc54-6d3e-45aa-de10-9b543b25f285"
      },
      "execution_count": null,
      "outputs": [
        {
          "output_type": "execute_result",
          "data": {
            "text/plain": [
              "'cs.CL'"
            ],
            "application/vnd.google.colaboratory.intrinsic+json": {
              "type": "string"
            }
          },
          "metadata": {},
          "execution_count": 81
        }
      ]
    },
    {
      "cell_type": "code",
      "source": [
        "predictor_model2.predict(\" The open-access archive, arXiv, uses category taxinomy to categorize the various articles in the archive. Ealier today, I asked ChatGPT how these categories are assigned.  In short, these categories are assigned by the auther from a pre-defined list.  Then, volunteer moderators review the submission and confirm than the categories are appropriate.The goal of this project is to train a deep-learning model to categorize the articles.  Such a model could potentially reduce the workload of both the author and the moderator.\")"
      ],
      "metadata": {
        "colab": {
          "base_uri": "https://localhost:8080/"
        },
        "id": "6c-s4VFlqQ3l",
        "outputId": "a480d157-d823-4f3e-d6d1-c01fb57fa4a1"
      },
      "execution_count": null,
      "outputs": [
        {
          "output_type": "execute_result",
          "data": {
            "text/plain": [
              "[('Other', 0.17225325),\n",
              " ('cs.AI', 0.120194845),\n",
              " ('cs.CL', 0.50773394),\n",
              " ('cs.CV', 0.009920702),\n",
              " ('cs.LG', 0.07080246),\n",
              " ('cs.NE', 0.009495664),\n",
              " ('stat.ML', 0.008632813)]"
            ]
          },
          "metadata": {},
          "execution_count": 82
        }
      ]
    },
    {
      "cell_type": "markdown",
      "source": [
        "#Conclusion\n",
        "\n",
        "This was a very educational project, as it was my first attempt multi-class classification using deep-learning.  Overall, I now have two very good models for classifying articles in arXiv.  In fact, my early investigations show that it is actually helpful for identifying articles that are currently mis-categorized in the archive.\n",
        "\n",
        "The DistilBERT model performed very well, but it tool a very long time to train and make predictions.  For next run, I will likely limit the number of parameters, which should speed-up the process.  \n",
        "\n",
        "While it is not a deep-learning model, this project made me fascinated by the fastText algorithm.  The performance was not as good as the deep-learning algorithm, but it had good performance with blazing fast-speeds.  Since the model was preprossed using the 'standard' pre-processing in the ktrain library, which does not remove stop-words, I would like to add some additonal pre-processing steps to see if it improves the predictions.  I would also like to investigate why it under-predicted the \"Machine Learning\" category.  This will require more details investigations into the data.\n",
        "\n",
        "One issue with the model, is that it currently only works to categories the six main categories related to machine learning, but there are several more categories for the archive.  The long list of potential categories makes evaluation more difficult and would require additonal data.  The data used for this model was only a subset of the available data.  On the Kaggle platform there is meta-data on over 1.7M articles, which can be used for a more robust model.\n",
        "\n",
        "Also, the data was unbalanced.  It is possible that training the models on balanced data will produce better results."
      ],
      "metadata": {
        "id": "-sOQ99gQpLK6"
      }
    },
    {
      "cell_type": "markdown",
      "source": [
        "##References\n",
        "\n",
        "Maiya, Arun, 2020, “ktrain: A Low-Code Library for Augmented Machine Learning” (GitHub: https://github.com/amaiya/ktrain)\n",
        "\n",
        "Mishra, Sumit, 2025, \"arXiv Scientific Research Papers Dataset\": https://www.kaggle.com/datasets/sumitm004/arxiv-scientific-research-papers-dataset\n",
        "\n",
        "Devlin, Jacob and Chang, Ming-Wei, 2018, “Open Sourcing BERT: State-of-the-Art Pre-training for Natural Language Processing\":\n",
        "https://research.google/blog/open-sourcing-bert-state-of-the-art-pre-training-for-natural-language-processing/\n",
        "\n",
        "Joulin, Armand; Grave, Edouard; Piotr, Grave; Bojanowski, Pioter; Mikolov, Tomas, 2016, \"Bag of Tricks for Efficient Text Classification\": https://arxiv.org/pdf/1607.01759\n",
        "\n",
        "Sahn, Victor, 2019, \"Smaller, faster, cheaper, lighter: Introducing DistilBERT, a distilled version of BERT\": https://medium.com/huggingface/distilbert-8cf3380435b5"
      ],
      "metadata": {
        "id": "eNlcsQuP45Q4"
      }
    }
  ]
}